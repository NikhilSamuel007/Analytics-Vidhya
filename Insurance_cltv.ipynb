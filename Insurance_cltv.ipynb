{
 "cells": [
  {
   "cell_type": "code",
   "execution_count": 1,
   "id": "71b57d7b",
   "metadata": {
    "ExecuteTime": {
     "end_time": "2023-01-21T18:54:13.282684Z",
     "start_time": "2023-01-21T18:54:10.986392Z"
    }
   },
   "outputs": [],
   "source": [
    "import numpy as np\n",
    "import pandas as pd\n",
    "import matplotlib.pyplot as plt\n",
    "import seaborn as sns\n",
    "from sklearn.model_selection import train_test_split\n",
    "from sklearn.linear_model import LinearRegression\n",
    "from sklearn import metrics"
   ]
  },
  {
   "cell_type": "code",
   "execution_count": 2,
   "id": "f4d2faba",
   "metadata": {
    "ExecuteTime": {
     "end_time": "2023-01-21T18:54:17.502491Z",
     "start_time": "2023-01-21T18:54:16.821780Z"
    }
   },
   "outputs": [],
   "source": [
    "# loading the data from csv file to a Pandas DataFrame\n",
    "dataset = pd.read_csv('train_BRCpofr.csv')"
   ]
  },
  {
   "cell_type": "code",
   "execution_count": 3,
   "id": "0c3f2b86",
   "metadata": {
    "ExecuteTime": {
     "end_time": "2023-01-21T18:54:25.530917Z",
     "start_time": "2023-01-21T18:54:25.482915Z"
    }
   },
   "outputs": [
    {
     "data": {
      "text/html": [
       "<div>\n",
       "<style scoped>\n",
       "    .dataframe tbody tr th:only-of-type {\n",
       "        vertical-align: middle;\n",
       "    }\n",
       "\n",
       "    .dataframe tbody tr th {\n",
       "        vertical-align: top;\n",
       "    }\n",
       "\n",
       "    .dataframe thead th {\n",
       "        text-align: right;\n",
       "    }\n",
       "</style>\n",
       "<table border=\"1\" class=\"dataframe\">\n",
       "  <thead>\n",
       "    <tr style=\"text-align: right;\">\n",
       "      <th></th>\n",
       "      <th>id</th>\n",
       "      <th>gender</th>\n",
       "      <th>area</th>\n",
       "      <th>qualification</th>\n",
       "      <th>income</th>\n",
       "      <th>marital_status</th>\n",
       "      <th>vintage</th>\n",
       "      <th>claim_amount</th>\n",
       "      <th>num_policies</th>\n",
       "      <th>policy</th>\n",
       "      <th>type_of_policy</th>\n",
       "      <th>cltv</th>\n",
       "    </tr>\n",
       "  </thead>\n",
       "  <tbody>\n",
       "    <tr>\n",
       "      <th>0</th>\n",
       "      <td>1</td>\n",
       "      <td>Male</td>\n",
       "      <td>Urban</td>\n",
       "      <td>Bachelor</td>\n",
       "      <td>5L-10L</td>\n",
       "      <td>1</td>\n",
       "      <td>5</td>\n",
       "      <td>5790</td>\n",
       "      <td>More than 1</td>\n",
       "      <td>A</td>\n",
       "      <td>Platinum</td>\n",
       "      <td>64308</td>\n",
       "    </tr>\n",
       "    <tr>\n",
       "      <th>1</th>\n",
       "      <td>2</td>\n",
       "      <td>Male</td>\n",
       "      <td>Rural</td>\n",
       "      <td>High School</td>\n",
       "      <td>5L-10L</td>\n",
       "      <td>0</td>\n",
       "      <td>8</td>\n",
       "      <td>5080</td>\n",
       "      <td>More than 1</td>\n",
       "      <td>A</td>\n",
       "      <td>Platinum</td>\n",
       "      <td>515400</td>\n",
       "    </tr>\n",
       "    <tr>\n",
       "      <th>2</th>\n",
       "      <td>3</td>\n",
       "      <td>Male</td>\n",
       "      <td>Urban</td>\n",
       "      <td>Bachelor</td>\n",
       "      <td>5L-10L</td>\n",
       "      <td>1</td>\n",
       "      <td>8</td>\n",
       "      <td>2599</td>\n",
       "      <td>More than 1</td>\n",
       "      <td>A</td>\n",
       "      <td>Platinum</td>\n",
       "      <td>64212</td>\n",
       "    </tr>\n",
       "    <tr>\n",
       "      <th>3</th>\n",
       "      <td>4</td>\n",
       "      <td>Female</td>\n",
       "      <td>Rural</td>\n",
       "      <td>High School</td>\n",
       "      <td>5L-10L</td>\n",
       "      <td>0</td>\n",
       "      <td>7</td>\n",
       "      <td>0</td>\n",
       "      <td>More than 1</td>\n",
       "      <td>A</td>\n",
       "      <td>Platinum</td>\n",
       "      <td>97920</td>\n",
       "    </tr>\n",
       "    <tr>\n",
       "      <th>4</th>\n",
       "      <td>5</td>\n",
       "      <td>Male</td>\n",
       "      <td>Urban</td>\n",
       "      <td>High School</td>\n",
       "      <td>More than 10L</td>\n",
       "      <td>1</td>\n",
       "      <td>6</td>\n",
       "      <td>3508</td>\n",
       "      <td>More than 1</td>\n",
       "      <td>A</td>\n",
       "      <td>Gold</td>\n",
       "      <td>59736</td>\n",
       "    </tr>\n",
       "  </tbody>\n",
       "</table>\n",
       "</div>"
      ],
      "text/plain": [
       "   id  gender   area qualification         income  marital_status  vintage  \\\n",
       "0   1    Male  Urban      Bachelor         5L-10L               1        5   \n",
       "1   2    Male  Rural   High School         5L-10L               0        8   \n",
       "2   3    Male  Urban      Bachelor         5L-10L               1        8   \n",
       "3   4  Female  Rural   High School         5L-10L               0        7   \n",
       "4   5    Male  Urban   High School  More than 10L               1        6   \n",
       "\n",
       "   claim_amount num_policies policy type_of_policy    cltv  \n",
       "0          5790  More than 1      A       Platinum   64308  \n",
       "1          5080  More than 1      A       Platinum  515400  \n",
       "2          2599  More than 1      A       Platinum   64212  \n",
       "3             0  More than 1      A       Platinum   97920  \n",
       "4          3508  More than 1      A           Gold   59736  "
      ]
     },
     "execution_count": 3,
     "metadata": {},
     "output_type": "execute_result"
    }
   ],
   "source": [
    "dataset.head()"
   ]
  },
  {
   "cell_type": "code",
   "execution_count": 4,
   "id": "d0baa02b",
   "metadata": {
    "ExecuteTime": {
     "end_time": "2023-01-21T18:54:38.516015Z",
     "start_time": "2023-01-21T18:54:38.492016Z"
    }
   },
   "outputs": [
    {
     "data": {
      "text/plain": [
       "(89392, 12)"
      ]
     },
     "execution_count": 4,
     "metadata": {},
     "output_type": "execute_result"
    }
   ],
   "source": [
    "dataset.shape"
   ]
  },
  {
   "cell_type": "code",
   "execution_count": 5,
   "id": "904f4383",
   "metadata": {
    "ExecuteTime": {
     "end_time": "2023-01-21T18:54:47.254337Z",
     "start_time": "2023-01-21T18:54:47.157642Z"
    }
   },
   "outputs": [
    {
     "name": "stdout",
     "output_type": "stream",
     "text": [
      "<class 'pandas.core.frame.DataFrame'>\n",
      "RangeIndex: 89392 entries, 0 to 89391\n",
      "Data columns (total 12 columns):\n",
      " #   Column          Non-Null Count  Dtype \n",
      "---  ------          --------------  ----- \n",
      " 0   id              89392 non-null  int64 \n",
      " 1   gender          89392 non-null  object\n",
      " 2   area            89392 non-null  object\n",
      " 3   qualification   89392 non-null  object\n",
      " 4   income          89392 non-null  object\n",
      " 5   marital_status  89392 non-null  int64 \n",
      " 6   vintage         89392 non-null  int64 \n",
      " 7   claim_amount    89392 non-null  int64 \n",
      " 8   num_policies    89392 non-null  object\n",
      " 9   policy          89392 non-null  object\n",
      " 10  type_of_policy  89392 non-null  object\n",
      " 11  cltv            89392 non-null  int64 \n",
      "dtypes: int64(5), object(7)\n",
      "memory usage: 8.2+ MB\n"
     ]
    }
   ],
   "source": [
    "dataset.info()"
   ]
  },
  {
   "cell_type": "code",
   "execution_count": 6,
   "id": "2be0d929",
   "metadata": {
    "ExecuteTime": {
     "end_time": "2023-01-21T18:54:56.659761Z",
     "start_time": "2023-01-21T18:54:56.586056Z"
    }
   },
   "outputs": [
    {
     "data": {
      "text/plain": [
       "id                0\n",
       "gender            0\n",
       "area              0\n",
       "qualification     0\n",
       "income            0\n",
       "marital_status    0\n",
       "vintage           0\n",
       "claim_amount      0\n",
       "num_policies      0\n",
       "policy            0\n",
       "type_of_policy    0\n",
       "cltv              0\n",
       "dtype: int64"
      ]
     },
     "execution_count": 6,
     "metadata": {},
     "output_type": "execute_result"
    }
   ],
   "source": [
    "dataset.isnull().sum()"
   ]
  },
  {
   "cell_type": "code",
   "execution_count": 7,
   "id": "a555a9a9",
   "metadata": {
    "ExecuteTime": {
     "end_time": "2023-01-21T18:55:06.597594Z",
     "start_time": "2023-01-21T18:55:06.505794Z"
    }
   },
   "outputs": [
    {
     "data": {
      "text/html": [
       "<div>\n",
       "<style scoped>\n",
       "    .dataframe tbody tr th:only-of-type {\n",
       "        vertical-align: middle;\n",
       "    }\n",
       "\n",
       "    .dataframe tbody tr th {\n",
       "        vertical-align: top;\n",
       "    }\n",
       "\n",
       "    .dataframe thead th {\n",
       "        text-align: right;\n",
       "    }\n",
       "</style>\n",
       "<table border=\"1\" class=\"dataframe\">\n",
       "  <thead>\n",
       "    <tr style=\"text-align: right;\">\n",
       "      <th></th>\n",
       "      <th>id</th>\n",
       "      <th>marital_status</th>\n",
       "      <th>vintage</th>\n",
       "      <th>claim_amount</th>\n",
       "      <th>cltv</th>\n",
       "    </tr>\n",
       "  </thead>\n",
       "  <tbody>\n",
       "    <tr>\n",
       "      <th>count</th>\n",
       "      <td>89392.000000</td>\n",
       "      <td>89392.000000</td>\n",
       "      <td>89392.000000</td>\n",
       "      <td>89392.000000</td>\n",
       "      <td>89392.000000</td>\n",
       "    </tr>\n",
       "    <tr>\n",
       "      <th>mean</th>\n",
       "      <td>44696.500000</td>\n",
       "      <td>0.575488</td>\n",
       "      <td>4.595669</td>\n",
       "      <td>4351.502416</td>\n",
       "      <td>97952.828978</td>\n",
       "    </tr>\n",
       "    <tr>\n",
       "      <th>std</th>\n",
       "      <td>25805.391969</td>\n",
       "      <td>0.494272</td>\n",
       "      <td>2.290446</td>\n",
       "      <td>3262.359775</td>\n",
       "      <td>90613.814793</td>\n",
       "    </tr>\n",
       "    <tr>\n",
       "      <th>min</th>\n",
       "      <td>1.000000</td>\n",
       "      <td>0.000000</td>\n",
       "      <td>0.000000</td>\n",
       "      <td>0.000000</td>\n",
       "      <td>24828.000000</td>\n",
       "    </tr>\n",
       "    <tr>\n",
       "      <th>25%</th>\n",
       "      <td>22348.750000</td>\n",
       "      <td>0.000000</td>\n",
       "      <td>3.000000</td>\n",
       "      <td>2406.000000</td>\n",
       "      <td>52836.000000</td>\n",
       "    </tr>\n",
       "    <tr>\n",
       "      <th>50%</th>\n",
       "      <td>44696.500000</td>\n",
       "      <td>1.000000</td>\n",
       "      <td>5.000000</td>\n",
       "      <td>4089.000000</td>\n",
       "      <td>66396.000000</td>\n",
       "    </tr>\n",
       "    <tr>\n",
       "      <th>75%</th>\n",
       "      <td>67044.250000</td>\n",
       "      <td>1.000000</td>\n",
       "      <td>6.000000</td>\n",
       "      <td>6094.000000</td>\n",
       "      <td>103440.000000</td>\n",
       "    </tr>\n",
       "    <tr>\n",
       "      <th>max</th>\n",
       "      <td>89392.000000</td>\n",
       "      <td>1.000000</td>\n",
       "      <td>8.000000</td>\n",
       "      <td>31894.000000</td>\n",
       "      <td>724068.000000</td>\n",
       "    </tr>\n",
       "  </tbody>\n",
       "</table>\n",
       "</div>"
      ],
      "text/plain": [
       "                 id  marital_status       vintage  claim_amount           cltv\n",
       "count  89392.000000    89392.000000  89392.000000  89392.000000   89392.000000\n",
       "mean   44696.500000        0.575488      4.595669   4351.502416   97952.828978\n",
       "std    25805.391969        0.494272      2.290446   3262.359775   90613.814793\n",
       "min        1.000000        0.000000      0.000000      0.000000   24828.000000\n",
       "25%    22348.750000        0.000000      3.000000   2406.000000   52836.000000\n",
       "50%    44696.500000        1.000000      5.000000   4089.000000   66396.000000\n",
       "75%    67044.250000        1.000000      6.000000   6094.000000  103440.000000\n",
       "max    89392.000000        1.000000      8.000000  31894.000000  724068.000000"
      ]
     },
     "execution_count": 7,
     "metadata": {},
     "output_type": "execute_result"
    }
   ],
   "source": [
    "dataset.describe()"
   ]
  },
  {
   "cell_type": "code",
   "execution_count": 8,
   "id": "be2f9443",
   "metadata": {
    "ExecuteTime": {
     "end_time": "2023-01-21T18:55:16.492166Z",
     "start_time": "2023-01-21T18:55:16.468137Z"
    }
   },
   "outputs": [],
   "source": [
    "from sklearn.preprocessing import LabelEncoder\n",
    "label_encoder = LabelEncoder()"
   ]
  },
  {
   "cell_type": "code",
   "execution_count": 9,
   "id": "8f46a46b",
   "metadata": {
    "ExecuteTime": {
     "end_time": "2023-01-21T18:55:23.829456Z",
     "start_time": "2023-01-21T18:55:23.161758Z"
    }
   },
   "outputs": [
    {
     "data": {
      "image/png": "[encoded data removed]",
      "text/plain": [
       "<Figure size 432x432 with 1 Axes>"
      ]
     },
     "metadata": {
      "needs_background": "light"
     },
     "output_type": "display_data"
    }
   ],
   "source": [
    "plt.figure(figsize=(6,6))\n",
    "sns.countplot(x='gender', data=dataset)\n",
    "plt.title('Gender Distribution')\n",
    "plt.show()"
   ]
  },
  {
   "cell_type": "code",
   "execution_count": 10,
   "id": "de5deb2f",
   "metadata": {
    "ExecuteTime": {
     "end_time": "2023-01-21T18:55:31.572915Z",
     "start_time": "2023-01-21T18:55:31.540898Z"
    }
   },
   "outputs": [
    {
     "data": {
      "text/plain": [
       "Male      50497\n",
       "Female    38895\n",
       "Name: gender, dtype: int64"
      ]
     },
     "execution_count": 10,
     "metadata": {},
     "output_type": "execute_result"
    }
   ],
   "source": [
    "dataset['gender'].value_counts()"
   ]
  },
  {
   "cell_type": "code",
   "execution_count": 11,
   "id": "6d77237b",
   "metadata": {
    "ExecuteTime": {
     "end_time": "2023-01-21T18:55:43.032855Z",
     "start_time": "2023-01-21T18:55:42.760087Z"
    }
   },
   "outputs": [
    {
     "data": {
      "image/png": "[encoded data removed]",
      "text/plain": [
       "<Figure size 432x432 with 1 Axes>"
      ]
     },
     "metadata": {
      "needs_background": "light"
     },
     "output_type": "display_data"
    }
   ],
   "source": [
    "plt.figure(figsize=(6,6))\n",
    "sns.countplot(x='area', data=dataset)\n",
    "plt.title('Area Distribution')\n",
    "plt.show()"
   ]
  },
  {
   "cell_type": "code",
   "execution_count": 12,
   "id": "a1d7a4a9",
   "metadata": {
    "ExecuteTime": {
     "end_time": "2023-01-21T18:55:52.955299Z",
     "start_time": "2023-01-21T18:55:52.891053Z"
    }
   },
   "outputs": [
    {
     "data": {
      "text/plain": [
       "Urban    62455\n",
       "Rural    26937\n",
       "Name: area, dtype: int64"
      ]
     },
     "execution_count": 12,
     "metadata": {},
     "output_type": "execute_result"
    }
   ],
   "source": [
    "dataset['area'].value_counts()"
   ]
  },
  {
   "cell_type": "code",
   "execution_count": 13,
   "id": "bc4cdd94",
   "metadata": {
    "ExecuteTime": {
     "end_time": "2023-01-21T18:56:00.134192Z",
     "start_time": "2023-01-21T18:55:59.810336Z"
    }
   },
   "outputs": [
    {
     "data": {
      "image/png": "[encoded data removed]",
      "text/plain": [
       "<Figure size 432x432 with 1 Axes>"
      ]
     },
     "metadata": {
      "needs_background": "light"
     },
     "output_type": "display_data"
    }
   ],
   "source": [
    "plt.figure(figsize=(6,6))\n",
    "sns.countplot(x='qualification', data=dataset)\n",
    "plt.title('Qualification Distribution')\n",
    "plt.show()"
   ]
  },
  {
   "cell_type": "code",
   "execution_count": 14,
   "id": "6ec5fd21",
   "metadata": {
    "ExecuteTime": {
     "end_time": "2023-01-21T18:56:09.513348Z",
     "start_time": "2023-01-21T18:56:09.224411Z"
    }
   },
   "outputs": [
    {
     "data": {
      "image/png": "[encoded data removed]",
      "text/plain": [
       "<Figure size 432x432 with 1 Axes>"
      ]
     },
     "metadata": {
      "needs_background": "light"
     },
     "output_type": "display_data"
    }
   ],
   "source": [
    "plt.figure(figsize=(6,6))\n",
    "sns.countplot(x='income', data=dataset)\n",
    "plt.title('Income Distribution')\n",
    "plt.show()"
   ]
  },
  {
   "cell_type": "code",
   "execution_count": 15,
   "id": "1406b37c",
   "metadata": {
    "ExecuteTime": {
     "end_time": "2023-01-21T18:56:18.521890Z",
     "start_time": "2023-01-21T18:56:18.292106Z"
    }
   },
   "outputs": [
    {
     "data": {
      "image/png": "[encoded data removed]",
      "text/plain": [
       "<Figure size 432x432 with 1 Axes>"
      ]
     },
     "metadata": {
      "needs_background": "light"
     },
     "output_type": "display_data"
    }
   ],
   "source": [
    "plt.figure(figsize=(6,6))\n",
    "sns.countplot(x='marital_status', data=dataset)\n",
    "plt.title('Marital_status Distribution')\n",
    "plt.show()"
   ]
  },
  {
   "cell_type": "code",
   "execution_count": 16,
   "id": "a832573e",
   "metadata": {
    "ExecuteTime": {
     "end_time": "2023-01-21T18:56:28.064491Z",
     "start_time": "2023-01-21T18:56:27.489978Z"
    }
   },
   "outputs": [
    {
     "data": {
      "image/png": "[encoded data removed]",
      "text/plain": [
       "<Figure size 432x432 with 1 Axes>"
      ]
     },
     "metadata": {
      "needs_background": "light"
     },
     "output_type": "display_data"
    }
   ],
   "source": [
    "plt.figure(figsize=(6,6))\n",
    "sns.countplot(x='vintage', data=dataset)\n",
    "plt.title('Vintage Distribution')\n",
    "plt.show()"
   ]
  },
  {
   "cell_type": "code",
   "execution_count": 17,
   "id": "c521d934",
   "metadata": {
    "ExecuteTime": {
     "end_time": "2023-01-21T18:56:37.878729Z",
     "start_time": "2023-01-21T18:56:36.135245Z"
    }
   },
   "outputs": [
    {
     "name": "stderr",
     "output_type": "stream",
     "text": [
      "C:\\Users\\DELL\\anaconda3\\lib\\site-packages\\seaborn\\distributions.py:2619: FutureWarning: `distplot` is a deprecated function and will be removed in a future version. Please adapt your code to use either `displot` (a figure-level function with similar flexibility) or `histplot` (an axes-level function for histograms).\n",
      "  warnings.warn(msg, FutureWarning)\n"
     ]
    },
    {
     "data": {
      "image/png": "[encoded data removed]",
      "text/plain": [
       "<Figure size 720x720 with 1 Axes>"
      ]
     },
     "metadata": {},
     "output_type": "display_data"
    }
   ],
   "source": [
    "sns.set()\n",
    "plt.figure(figsize=(10,10))\n",
    "sns.distplot(dataset['claim_amount'])\n",
    "plt.title('Claim Amount Distribution')\n",
    "plt.show()"
   ]
  },
  {
   "cell_type": "code",
   "execution_count": 18,
   "id": "f9ab4ad5",
   "metadata": {
    "ExecuteTime": {
     "end_time": "2023-01-21T18:56:44.437129Z",
     "start_time": "2023-01-21T18:56:44.090664Z"
    }
   },
   "outputs": [
    {
     "data": {
      "image/png": "[encoded data removed]",
      "text/plain": [
       "<Figure size 432x432 with 1 Axes>"
      ]
     },
     "metadata": {},
     "output_type": "display_data"
    }
   ],
   "source": [
    "plt.figure(figsize=(6,6))\n",
    "sns.countplot(x='num_policies', data=dataset)\n",
    "plt.title('Num_policies Distribution')\n",
    "plt.show()"
   ]
  },
  {
   "cell_type": "code",
   "execution_count": 19,
   "id": "374a7913",
   "metadata": {
    "ExecuteTime": {
     "end_time": "2023-01-21T18:56:53.473515Z",
     "start_time": "2023-01-21T18:56:53.166439Z"
    }
   },
   "outputs": [
    {
     "data": {
      "image/png": "[encoded data removed]",
      "text/plain": [
       "<Figure size 432x432 with 1 Axes>"
      ]
     },
     "metadata": {},
     "output_type": "display_data"
    }
   ],
   "source": [
    "plt.figure(figsize=(6,6))\n",
    "sns.countplot(x='policy', data=dataset)\n",
    "plt.title('Policy Distribution')\n",
    "plt.show()"
   ]
  },
  {
   "cell_type": "code",
   "execution_count": 20,
   "id": "7039d1d3",
   "metadata": {
    "ExecuteTime": {
     "end_time": "2023-01-21T18:57:04.232568Z",
     "start_time": "2023-01-21T18:57:03.904322Z"
    }
   },
   "outputs": [
    {
     "data": {
      "image/png": "[encoded data removed]",
      "text/plain": [
       "<Figure size 432x432 with 1 Axes>"
      ]
     },
     "metadata": {},
     "output_type": "display_data"
    }
   ],
   "source": [
    "plt.figure(figsize=(6,6))\n",
    "sns.countplot(x='type_of_policy', data=dataset)\n",
    "plt.title('Type of Policy Distribution')\n",
    "plt.show()"
   ]
  },
  {
   "cell_type": "code",
   "execution_count": 21,
   "id": "6ee1ad96",
   "metadata": {
    "ExecuteTime": {
     "end_time": "2023-01-21T18:57:15.256068Z",
     "start_time": "2023-01-21T18:57:13.539268Z"
    }
   },
   "outputs": [
    {
     "name": "stderr",
     "output_type": "stream",
     "text": [
      "C:\\Users\\DELL\\anaconda3\\lib\\site-packages\\seaborn\\distributions.py:2619: FutureWarning: `distplot` is a deprecated function and will be removed in a future version. Please adapt your code to use either `displot` (a figure-level function with similar flexibility) or `histplot` (an axes-level function for histograms).\n",
      "  warnings.warn(msg, FutureWarning)\n"
     ]
    },
    {
     "data": {
      "image/png": "[encoded data removed]",
      "text/plain": [
       "<Figure size 720x720 with 1 Axes>"
      ]
     },
     "metadata": {},
     "output_type": "display_data"
    }
   ],
   "source": [
    "sns.set()\n",
    "plt.figure(figsize=(10,10))\n",
    "sns.distplot(dataset['cltv'])\n",
    "plt.title('Customer Life Time Value')\n",
    "plt.show()"
   ]
  },
  {
   "cell_type": "code",
   "execution_count": 22,
   "id": "da6ec478",
   "metadata": {
    "ExecuteTime": {
     "end_time": "2023-01-21T18:57:25.285186Z",
     "start_time": "2023-01-21T18:57:25.014708Z"
    }
   },
   "outputs": [],
   "source": [
    "dataset['gender']= label_encoder.fit_transform(dataset['gender'])\n",
    "dataset['area'] = label_encoder.fit_transform(dataset['area'])\n",
    "dataset['qualification'] = label_encoder.fit_transform(dataset['qualification'])\n",
    "dataset['income']= label_encoder.fit_transform(dataset['income'])\n",
    "dataset['num_policies'] = label_encoder.fit_transform(dataset['num_policies'])\n",
    "dataset['policy'] = label_encoder.fit_transform(dataset['policy'])\n",
    "dataset['type_of_policy'] = label_encoder.fit_transform(dataset['type_of_policy'])"
   ]
  },
  {
   "cell_type": "code",
   "execution_count": 23,
   "id": "9f18e9b9",
   "metadata": {
    "ExecuteTime": {
     "end_time": "2023-01-21T18:57:34.781898Z",
     "start_time": "2023-01-21T18:57:34.740385Z"
    }
   },
   "outputs": [
    {
     "data": {
      "text/html": [
       "<div>\n",
       "<style scoped>\n",
       "    .dataframe tbody tr th:only-of-type {\n",
       "        vertical-align: middle;\n",
       "    }\n",
       "\n",
       "    .dataframe tbody tr th {\n",
       "        vertical-align: top;\n",
       "    }\n",
       "\n",
       "    .dataframe thead th {\n",
       "        text-align: right;\n",
       "    }\n",
       "</style>\n",
       "<table border=\"1\" class=\"dataframe\">\n",
       "  <thead>\n",
       "    <tr style=\"text-align: right;\">\n",
       "      <th></th>\n",
       "      <th>id</th>\n",
       "      <th>gender</th>\n",
       "      <th>area</th>\n",
       "      <th>qualification</th>\n",
       "      <th>income</th>\n",
       "      <th>marital_status</th>\n",
       "      <th>vintage</th>\n",
       "      <th>claim_amount</th>\n",
       "      <th>num_policies</th>\n",
       "      <th>policy</th>\n",
       "      <th>type_of_policy</th>\n",
       "      <th>cltv</th>\n",
       "    </tr>\n",
       "  </thead>\n",
       "  <tbody>\n",
       "    <tr>\n",
       "      <th>0</th>\n",
       "      <td>1</td>\n",
       "      <td>1</td>\n",
       "      <td>1</td>\n",
       "      <td>0</td>\n",
       "      <td>1</td>\n",
       "      <td>1</td>\n",
       "      <td>5</td>\n",
       "      <td>5790</td>\n",
       "      <td>1</td>\n",
       "      <td>0</td>\n",
       "      <td>1</td>\n",
       "      <td>64308</td>\n",
       "    </tr>\n",
       "    <tr>\n",
       "      <th>1</th>\n",
       "      <td>2</td>\n",
       "      <td>1</td>\n",
       "      <td>0</td>\n",
       "      <td>1</td>\n",
       "      <td>1</td>\n",
       "      <td>0</td>\n",
       "      <td>8</td>\n",
       "      <td>5080</td>\n",
       "      <td>1</td>\n",
       "      <td>0</td>\n",
       "      <td>1</td>\n",
       "      <td>515400</td>\n",
       "    </tr>\n",
       "    <tr>\n",
       "      <th>2</th>\n",
       "      <td>3</td>\n",
       "      <td>1</td>\n",
       "      <td>1</td>\n",
       "      <td>0</td>\n",
       "      <td>1</td>\n",
       "      <td>1</td>\n",
       "      <td>8</td>\n",
       "      <td>2599</td>\n",
       "      <td>1</td>\n",
       "      <td>0</td>\n",
       "      <td>1</td>\n",
       "      <td>64212</td>\n",
       "    </tr>\n",
       "    <tr>\n",
       "      <th>3</th>\n",
       "      <td>4</td>\n",
       "      <td>0</td>\n",
       "      <td>0</td>\n",
       "      <td>1</td>\n",
       "      <td>1</td>\n",
       "      <td>0</td>\n",
       "      <td>7</td>\n",
       "      <td>0</td>\n",
       "      <td>1</td>\n",
       "      <td>0</td>\n",
       "      <td>1</td>\n",
       "      <td>97920</td>\n",
       "    </tr>\n",
       "    <tr>\n",
       "      <th>4</th>\n",
       "      <td>5</td>\n",
       "      <td>1</td>\n",
       "      <td>1</td>\n",
       "      <td>1</td>\n",
       "      <td>3</td>\n",
       "      <td>1</td>\n",
       "      <td>6</td>\n",
       "      <td>3508</td>\n",
       "      <td>1</td>\n",
       "      <td>0</td>\n",
       "      <td>0</td>\n",
       "      <td>59736</td>\n",
       "    </tr>\n",
       "    <tr>\n",
       "      <th>...</th>\n",
       "      <td>...</td>\n",
       "      <td>...</td>\n",
       "      <td>...</td>\n",
       "      <td>...</td>\n",
       "      <td>...</td>\n",
       "      <td>...</td>\n",
       "      <td>...</td>\n",
       "      <td>...</td>\n",
       "      <td>...</td>\n",
       "      <td>...</td>\n",
       "      <td>...</td>\n",
       "      <td>...</td>\n",
       "    </tr>\n",
       "    <tr>\n",
       "      <th>89387</th>\n",
       "      <td>89388</td>\n",
       "      <td>1</td>\n",
       "      <td>0</td>\n",
       "      <td>1</td>\n",
       "      <td>3</td>\n",
       "      <td>0</td>\n",
       "      <td>6</td>\n",
       "      <td>0</td>\n",
       "      <td>1</td>\n",
       "      <td>1</td>\n",
       "      <td>1</td>\n",
       "      <td>95736</td>\n",
       "    </tr>\n",
       "    <tr>\n",
       "      <th>89388</th>\n",
       "      <td>89389</td>\n",
       "      <td>1</td>\n",
       "      <td>1</td>\n",
       "      <td>0</td>\n",
       "      <td>1</td>\n",
       "      <td>1</td>\n",
       "      <td>0</td>\n",
       "      <td>3897</td>\n",
       "      <td>1</td>\n",
       "      <td>0</td>\n",
       "      <td>1</td>\n",
       "      <td>67596</td>\n",
       "    </tr>\n",
       "    <tr>\n",
       "      <th>89389</th>\n",
       "      <td>89390</td>\n",
       "      <td>0</td>\n",
       "      <td>1</td>\n",
       "      <td>0</td>\n",
       "      <td>1</td>\n",
       "      <td>0</td>\n",
       "      <td>4</td>\n",
       "      <td>3363</td>\n",
       "      <td>1</td>\n",
       "      <td>1</td>\n",
       "      <td>1</td>\n",
       "      <td>114120</td>\n",
       "    </tr>\n",
       "    <tr>\n",
       "      <th>89390</th>\n",
       "      <td>89391</td>\n",
       "      <td>0</td>\n",
       "      <td>0</td>\n",
       "      <td>1</td>\n",
       "      <td>0</td>\n",
       "      <td>0</td>\n",
       "      <td>8</td>\n",
       "      <td>0</td>\n",
       "      <td>1</td>\n",
       "      <td>1</td>\n",
       "      <td>1</td>\n",
       "      <td>71772</td>\n",
       "    </tr>\n",
       "    <tr>\n",
       "      <th>89391</th>\n",
       "      <td>89392</td>\n",
       "      <td>0</td>\n",
       "      <td>0</td>\n",
       "      <td>1</td>\n",
       "      <td>1</td>\n",
       "      <td>0</td>\n",
       "      <td>6</td>\n",
       "      <td>0</td>\n",
       "      <td>1</td>\n",
       "      <td>1</td>\n",
       "      <td>0</td>\n",
       "      <td>108144</td>\n",
       "    </tr>\n",
       "  </tbody>\n",
       "</table>\n",
       "<p>89392 rows × 12 columns</p>\n",
       "</div>"
      ],
      "text/plain": [
       "          id  gender  area  qualification  income  marital_status  vintage  \\\n",
       "0          1       1     1              0       1               1        5   \n",
       "1          2       1     0              1       1               0        8   \n",
       "2          3       1     1              0       1               1        8   \n",
       "3          4       0     0              1       1               0        7   \n",
       "4          5       1     1              1       3               1        6   \n",
       "...      ...     ...   ...            ...     ...             ...      ...   \n",
       "89387  89388       1     0              1       3               0        6   \n",
       "89388  89389       1     1              0       1               1        0   \n",
       "89389  89390       0     1              0       1               0        4   \n",
       "89390  89391       0     0              1       0               0        8   \n",
       "89391  89392       0     0              1       1               0        6   \n",
       "\n",
       "       claim_amount  num_policies  policy  type_of_policy    cltv  \n",
       "0              5790             1       0               1   64308  \n",
       "1              5080             1       0               1  515400  \n",
       "2              2599             1       0               1   64212  \n",
       "3                 0             1       0               1   97920  \n",
       "4              3508             1       0               0   59736  \n",
       "...             ...           ...     ...             ...     ...  \n",
       "89387             0             1       1               1   95736  \n",
       "89388          3897             1       0               1   67596  \n",
       "89389          3363             1       1               1  114120  \n",
       "89390             0             1       1               1   71772  \n",
       "89391             0             1       1               0  108144  \n",
       "\n",
       "[89392 rows x 12 columns]"
      ]
     },
     "execution_count": 23,
     "metadata": {},
     "output_type": "execute_result"
    }
   ],
   "source": [
    "dataset"
   ]
  },
  {
   "cell_type": "code",
   "execution_count": 24,
   "id": "40df7017",
   "metadata": {
    "ExecuteTime": {
     "end_time": "2023-01-21T18:57:49.024709Z",
     "start_time": "2023-01-21T18:57:49.008711Z"
    }
   },
   "outputs": [
    {
     "data": {
      "text/plain": [
       "(89392, 12)"
      ]
     },
     "execution_count": 24,
     "metadata": {},
     "output_type": "execute_result"
    }
   ],
   "source": [
    "dataset.shape"
   ]
  },
  {
   "cell_type": "code",
   "execution_count": 25,
   "id": "f690613a",
   "metadata": {
    "ExecuteTime": {
     "end_time": "2023-01-21T18:57:58.595434Z",
     "start_time": "2023-01-21T18:57:58.378886Z"
    }
   },
   "outputs": [],
   "source": [
    "test_dataset = pd.read_csv(\"test_koRSKBP.csv\")"
   ]
  },
  {
   "cell_type": "code",
   "execution_count": 26,
   "id": "af6d5aaa",
   "metadata": {
    "ExecuteTime": {
     "end_time": "2023-01-21T18:58:06.523475Z",
     "start_time": "2023-01-21T18:58:06.459283Z"
    }
   },
   "outputs": [
    {
     "data": {
      "text/html": [
       "<div>\n",
       "<style scoped>\n",
       "    .dataframe tbody tr th:only-of-type {\n",
       "        vertical-align: middle;\n",
       "    }\n",
       "\n",
       "    .dataframe tbody tr th {\n",
       "        vertical-align: top;\n",
       "    }\n",
       "\n",
       "    .dataframe thead th {\n",
       "        text-align: right;\n",
       "    }\n",
       "</style>\n",
       "<table border=\"1\" class=\"dataframe\">\n",
       "  <thead>\n",
       "    <tr style=\"text-align: right;\">\n",
       "      <th></th>\n",
       "      <th>id</th>\n",
       "      <th>gender</th>\n",
       "      <th>area</th>\n",
       "      <th>qualification</th>\n",
       "      <th>income</th>\n",
       "      <th>marital_status</th>\n",
       "      <th>vintage</th>\n",
       "      <th>claim_amount</th>\n",
       "      <th>num_policies</th>\n",
       "      <th>policy</th>\n",
       "      <th>type_of_policy</th>\n",
       "    </tr>\n",
       "  </thead>\n",
       "  <tbody>\n",
       "    <tr>\n",
       "      <th>0</th>\n",
       "      <td>89393</td>\n",
       "      <td>Female</td>\n",
       "      <td>Rural</td>\n",
       "      <td>High School</td>\n",
       "      <td>5L-10L</td>\n",
       "      <td>0</td>\n",
       "      <td>6</td>\n",
       "      <td>2134</td>\n",
       "      <td>More than 1</td>\n",
       "      <td>B</td>\n",
       "      <td>Silver</td>\n",
       "    </tr>\n",
       "    <tr>\n",
       "      <th>1</th>\n",
       "      <td>89394</td>\n",
       "      <td>Female</td>\n",
       "      <td>Urban</td>\n",
       "      <td>High School</td>\n",
       "      <td>2L-5L</td>\n",
       "      <td>0</td>\n",
       "      <td>4</td>\n",
       "      <td>4102</td>\n",
       "      <td>More than 1</td>\n",
       "      <td>A</td>\n",
       "      <td>Platinum</td>\n",
       "    </tr>\n",
       "    <tr>\n",
       "      <th>2</th>\n",
       "      <td>89395</td>\n",
       "      <td>Male</td>\n",
       "      <td>Rural</td>\n",
       "      <td>High School</td>\n",
       "      <td>5L-10L</td>\n",
       "      <td>1</td>\n",
       "      <td>7</td>\n",
       "      <td>2925</td>\n",
       "      <td>More than 1</td>\n",
       "      <td>B</td>\n",
       "      <td>Gold</td>\n",
       "    </tr>\n",
       "    <tr>\n",
       "      <th>3</th>\n",
       "      <td>89396</td>\n",
       "      <td>Female</td>\n",
       "      <td>Rural</td>\n",
       "      <td>Bachelor</td>\n",
       "      <td>More than 10L</td>\n",
       "      <td>1</td>\n",
       "      <td>2</td>\n",
       "      <td>0</td>\n",
       "      <td>More than 1</td>\n",
       "      <td>B</td>\n",
       "      <td>Silver</td>\n",
       "    </tr>\n",
       "    <tr>\n",
       "      <th>4</th>\n",
       "      <td>89397</td>\n",
       "      <td>Female</td>\n",
       "      <td>Urban</td>\n",
       "      <td>High School</td>\n",
       "      <td>2L-5L</td>\n",
       "      <td>0</td>\n",
       "      <td>5</td>\n",
       "      <td>14059</td>\n",
       "      <td>More than 1</td>\n",
       "      <td>B</td>\n",
       "      <td>Silver</td>\n",
       "    </tr>\n",
       "    <tr>\n",
       "      <th>...</th>\n",
       "      <td>...</td>\n",
       "      <td>...</td>\n",
       "      <td>...</td>\n",
       "      <td>...</td>\n",
       "      <td>...</td>\n",
       "      <td>...</td>\n",
       "      <td>...</td>\n",
       "      <td>...</td>\n",
       "      <td>...</td>\n",
       "      <td>...</td>\n",
       "      <td>...</td>\n",
       "    </tr>\n",
       "    <tr>\n",
       "      <th>59590</th>\n",
       "      <td>148983</td>\n",
       "      <td>Male</td>\n",
       "      <td>Rural</td>\n",
       "      <td>Bachelor</td>\n",
       "      <td>5L-10L</td>\n",
       "      <td>1</td>\n",
       "      <td>6</td>\n",
       "      <td>0</td>\n",
       "      <td>1</td>\n",
       "      <td>A</td>\n",
       "      <td>Silver</td>\n",
       "    </tr>\n",
       "    <tr>\n",
       "      <th>59591</th>\n",
       "      <td>148984</td>\n",
       "      <td>Male</td>\n",
       "      <td>Urban</td>\n",
       "      <td>High School</td>\n",
       "      <td>5L-10L</td>\n",
       "      <td>0</td>\n",
       "      <td>6</td>\n",
       "      <td>0</td>\n",
       "      <td>1</td>\n",
       "      <td>C</td>\n",
       "      <td>Gold</td>\n",
       "    </tr>\n",
       "    <tr>\n",
       "      <th>59592</th>\n",
       "      <td>148985</td>\n",
       "      <td>Female</td>\n",
       "      <td>Urban</td>\n",
       "      <td>High School</td>\n",
       "      <td>2L-5L</td>\n",
       "      <td>1</td>\n",
       "      <td>4</td>\n",
       "      <td>3323</td>\n",
       "      <td>More than 1</td>\n",
       "      <td>B</td>\n",
       "      <td>Platinum</td>\n",
       "    </tr>\n",
       "    <tr>\n",
       "      <th>59593</th>\n",
       "      <td>148986</td>\n",
       "      <td>Male</td>\n",
       "      <td>Rural</td>\n",
       "      <td>Bachelor</td>\n",
       "      <td>5L-10L</td>\n",
       "      <td>0</td>\n",
       "      <td>1</td>\n",
       "      <td>2886</td>\n",
       "      <td>More than 1</td>\n",
       "      <td>A</td>\n",
       "      <td>Silver</td>\n",
       "    </tr>\n",
       "    <tr>\n",
       "      <th>59594</th>\n",
       "      <td>148987</td>\n",
       "      <td>Female</td>\n",
       "      <td>Urban</td>\n",
       "      <td>Bachelor</td>\n",
       "      <td>5L-10L</td>\n",
       "      <td>1</td>\n",
       "      <td>4</td>\n",
       "      <td>5939</td>\n",
       "      <td>More than 1</td>\n",
       "      <td>B</td>\n",
       "      <td>Platinum</td>\n",
       "    </tr>\n",
       "  </tbody>\n",
       "</table>\n",
       "<p>59595 rows × 11 columns</p>\n",
       "</div>"
      ],
      "text/plain": [
       "           id  gender   area qualification         income  marital_status  \\\n",
       "0       89393  Female  Rural   High School         5L-10L               0   \n",
       "1       89394  Female  Urban   High School          2L-5L               0   \n",
       "2       89395    Male  Rural   High School         5L-10L               1   \n",
       "3       89396  Female  Rural      Bachelor  More than 10L               1   \n",
       "4       89397  Female  Urban   High School          2L-5L               0   \n",
       "...       ...     ...    ...           ...            ...             ...   \n",
       "59590  148983    Male  Rural      Bachelor         5L-10L               1   \n",
       "59591  148984    Male  Urban   High School         5L-10L               0   \n",
       "59592  148985  Female  Urban   High School          2L-5L               1   \n",
       "59593  148986    Male  Rural      Bachelor         5L-10L               0   \n",
       "59594  148987  Female  Urban      Bachelor         5L-10L               1   \n",
       "\n",
       "       vintage  claim_amount num_policies policy type_of_policy  \n",
       "0            6          2134  More than 1      B         Silver  \n",
       "1            4          4102  More than 1      A       Platinum  \n",
       "2            7          2925  More than 1      B           Gold  \n",
       "3            2             0  More than 1      B         Silver  \n",
       "4            5         14059  More than 1      B         Silver  \n",
       "...        ...           ...          ...    ...            ...  \n",
       "59590        6             0            1      A         Silver  \n",
       "59591        6             0            1      C           Gold  \n",
       "59592        4          3323  More than 1      B       Platinum  \n",
       "59593        1          2886  More than 1      A         Silver  \n",
       "59594        4          5939  More than 1      B       Platinum  \n",
       "\n",
       "[59595 rows x 11 columns]"
      ]
     },
     "execution_count": 26,
     "metadata": {},
     "output_type": "execute_result"
    }
   ],
   "source": [
    "test_dataset"
   ]
  },
  {
   "cell_type": "code",
   "execution_count": 27,
   "id": "fe5b523d",
   "metadata": {
    "ExecuteTime": {
     "end_time": "2023-01-21T18:58:17.780388Z",
     "start_time": "2023-01-21T18:58:17.585433Z"
    }
   },
   "outputs": [],
   "source": [
    "test_dataset['gender']= label_encoder.fit_transform(test_dataset['gender'])\n",
    "test_dataset['area'] = label_encoder.fit_transform(test_dataset['area'])\n",
    "test_dataset['qualification'] = label_encoder.fit_transform(test_dataset['qualification'])\n",
    "test_dataset['income']= label_encoder.fit_transform(test_dataset['income'])\n",
    "test_dataset['num_policies'] = label_encoder.fit_transform(test_dataset['num_policies'])\n",
    "test_dataset['policy'] = label_encoder.fit_transform(test_dataset['policy'])\n",
    "test_dataset['type_of_policy'] = label_encoder.fit_transform(test_dataset['type_of_policy'])"
   ]
  },
  {
   "cell_type": "code",
   "execution_count": 28,
   "id": "b4261486",
   "metadata": {
    "ExecuteTime": {
     "end_time": "2023-01-21T18:58:24.716011Z",
     "start_time": "2023-01-21T18:58:24.676006Z"
    }
   },
   "outputs": [
    {
     "data": {
      "text/html": [
       "<div>\n",
       "<style scoped>\n",
       "    .dataframe tbody tr th:only-of-type {\n",
       "        vertical-align: middle;\n",
       "    }\n",
       "\n",
       "    .dataframe tbody tr th {\n",
       "        vertical-align: top;\n",
       "    }\n",
       "\n",
       "    .dataframe thead th {\n",
       "        text-align: right;\n",
       "    }\n",
       "</style>\n",
       "<table border=\"1\" class=\"dataframe\">\n",
       "  <thead>\n",
       "    <tr style=\"text-align: right;\">\n",
       "      <th></th>\n",
       "      <th>id</th>\n",
       "      <th>gender</th>\n",
       "      <th>area</th>\n",
       "      <th>qualification</th>\n",
       "      <th>income</th>\n",
       "      <th>marital_status</th>\n",
       "      <th>vintage</th>\n",
       "      <th>claim_amount</th>\n",
       "      <th>num_policies</th>\n",
       "      <th>policy</th>\n",
       "      <th>type_of_policy</th>\n",
       "    </tr>\n",
       "  </thead>\n",
       "  <tbody>\n",
       "    <tr>\n",
       "      <th>0</th>\n",
       "      <td>89393</td>\n",
       "      <td>0</td>\n",
       "      <td>0</td>\n",
       "      <td>1</td>\n",
       "      <td>1</td>\n",
       "      <td>0</td>\n",
       "      <td>6</td>\n",
       "      <td>2134</td>\n",
       "      <td>1</td>\n",
       "      <td>1</td>\n",
       "      <td>2</td>\n",
       "    </tr>\n",
       "    <tr>\n",
       "      <th>1</th>\n",
       "      <td>89394</td>\n",
       "      <td>0</td>\n",
       "      <td>1</td>\n",
       "      <td>1</td>\n",
       "      <td>0</td>\n",
       "      <td>0</td>\n",
       "      <td>4</td>\n",
       "      <td>4102</td>\n",
       "      <td>1</td>\n",
       "      <td>0</td>\n",
       "      <td>1</td>\n",
       "    </tr>\n",
       "    <tr>\n",
       "      <th>2</th>\n",
       "      <td>89395</td>\n",
       "      <td>1</td>\n",
       "      <td>0</td>\n",
       "      <td>1</td>\n",
       "      <td>1</td>\n",
       "      <td>1</td>\n",
       "      <td>7</td>\n",
       "      <td>2925</td>\n",
       "      <td>1</td>\n",
       "      <td>1</td>\n",
       "      <td>0</td>\n",
       "    </tr>\n",
       "    <tr>\n",
       "      <th>3</th>\n",
       "      <td>89396</td>\n",
       "      <td>0</td>\n",
       "      <td>0</td>\n",
       "      <td>0</td>\n",
       "      <td>3</td>\n",
       "      <td>1</td>\n",
       "      <td>2</td>\n",
       "      <td>0</td>\n",
       "      <td>1</td>\n",
       "      <td>1</td>\n",
       "      <td>2</td>\n",
       "    </tr>\n",
       "    <tr>\n",
       "      <th>4</th>\n",
       "      <td>89397</td>\n",
       "      <td>0</td>\n",
       "      <td>1</td>\n",
       "      <td>1</td>\n",
       "      <td>0</td>\n",
       "      <td>0</td>\n",
       "      <td>5</td>\n",
       "      <td>14059</td>\n",
       "      <td>1</td>\n",
       "      <td>1</td>\n",
       "      <td>2</td>\n",
       "    </tr>\n",
       "    <tr>\n",
       "      <th>...</th>\n",
       "      <td>...</td>\n",
       "      <td>...</td>\n",
       "      <td>...</td>\n",
       "      <td>...</td>\n",
       "      <td>...</td>\n",
       "      <td>...</td>\n",
       "      <td>...</td>\n",
       "      <td>...</td>\n",
       "      <td>...</td>\n",
       "      <td>...</td>\n",
       "      <td>...</td>\n",
       "    </tr>\n",
       "    <tr>\n",
       "      <th>59590</th>\n",
       "      <td>148983</td>\n",
       "      <td>1</td>\n",
       "      <td>0</td>\n",
       "      <td>0</td>\n",
       "      <td>1</td>\n",
       "      <td>1</td>\n",
       "      <td>6</td>\n",
       "      <td>0</td>\n",
       "      <td>0</td>\n",
       "      <td>0</td>\n",
       "      <td>2</td>\n",
       "    </tr>\n",
       "    <tr>\n",
       "      <th>59591</th>\n",
       "      <td>148984</td>\n",
       "      <td>1</td>\n",
       "      <td>1</td>\n",
       "      <td>1</td>\n",
       "      <td>1</td>\n",
       "      <td>0</td>\n",
       "      <td>6</td>\n",
       "      <td>0</td>\n",
       "      <td>0</td>\n",
       "      <td>2</td>\n",
       "      <td>0</td>\n",
       "    </tr>\n",
       "    <tr>\n",
       "      <th>59592</th>\n",
       "      <td>148985</td>\n",
       "      <td>0</td>\n",
       "      <td>1</td>\n",
       "      <td>1</td>\n",
       "      <td>0</td>\n",
       "      <td>1</td>\n",
       "      <td>4</td>\n",
       "      <td>3323</td>\n",
       "      <td>1</td>\n",
       "      <td>1</td>\n",
       "      <td>1</td>\n",
       "    </tr>\n",
       "    <tr>\n",
       "      <th>59593</th>\n",
       "      <td>148986</td>\n",
       "      <td>1</td>\n",
       "      <td>0</td>\n",
       "      <td>0</td>\n",
       "      <td>1</td>\n",
       "      <td>0</td>\n",
       "      <td>1</td>\n",
       "      <td>2886</td>\n",
       "      <td>1</td>\n",
       "      <td>0</td>\n",
       "      <td>2</td>\n",
       "    </tr>\n",
       "    <tr>\n",
       "      <th>59594</th>\n",
       "      <td>148987</td>\n",
       "      <td>0</td>\n",
       "      <td>1</td>\n",
       "      <td>0</td>\n",
       "      <td>1</td>\n",
       "      <td>1</td>\n",
       "      <td>4</td>\n",
       "      <td>5939</td>\n",
       "      <td>1</td>\n",
       "      <td>1</td>\n",
       "      <td>1</td>\n",
       "    </tr>\n",
       "  </tbody>\n",
       "</table>\n",
       "<p>59595 rows × 11 columns</p>\n",
       "</div>"
      ],
      "text/plain": [
       "           id  gender  area  qualification  income  marital_status  vintage  \\\n",
       "0       89393       0     0              1       1               0        6   \n",
       "1       89394       0     1              1       0               0        4   \n",
       "2       89395       1     0              1       1               1        7   \n",
       "3       89396       0     0              0       3               1        2   \n",
       "4       89397       0     1              1       0               0        5   \n",
       "...       ...     ...   ...            ...     ...             ...      ...   \n",
       "59590  148983       1     0              0       1               1        6   \n",
       "59591  148984       1     1              1       1               0        6   \n",
       "59592  148985       0     1              1       0               1        4   \n",
       "59593  148986       1     0              0       1               0        1   \n",
       "59594  148987       0     1              0       1               1        4   \n",
       "\n",
       "       claim_amount  num_policies  policy  type_of_policy  \n",
       "0              2134             1       1               2  \n",
       "1              4102             1       0               1  \n",
       "2              2925             1       1               0  \n",
       "3                 0             1       1               2  \n",
       "4             14059             1       1               2  \n",
       "...             ...           ...     ...             ...  \n",
       "59590             0             0       0               2  \n",
       "59591             0             0       2               0  \n",
       "59592          3323             1       1               1  \n",
       "59593          2886             1       0               2  \n",
       "59594          5939             1       1               1  \n",
       "\n",
       "[59595 rows x 11 columns]"
      ]
     },
     "execution_count": 28,
     "metadata": {},
     "output_type": "execute_result"
    }
   ],
   "source": [
    "test_dataset"
   ]
  },
  {
   "cell_type": "code",
   "execution_count": 30,
   "id": "b76d9def",
   "metadata": {
    "ExecuteTime": {
     "end_time": "2023-01-21T19:00:01.979693Z",
     "start_time": "2023-01-21T19:00:01.925342Z"
    }
   },
   "outputs": [],
   "source": [
    "train_temp,test_temp=train_test_split(dataset,test_size=0.01,random_state=0)"
   ]
  },
  {
   "cell_type": "code",
   "execution_count": 32,
   "id": "757ee65e",
   "metadata": {
    "ExecuteTime": {
     "end_time": "2023-01-21T19:01:10.455229Z",
     "start_time": "2023-01-21T19:01:10.447230Z"
    }
   },
   "outputs": [],
   "source": [
    "features=list(dataset.columns)\n",
    "label='cltv'\n",
    "\n",
    "features.remove(label)"
   ]
  },
  {
   "cell_type": "code",
   "execution_count": 34,
   "id": "d496d47f",
   "metadata": {
    "ExecuteTime": {
     "end_time": "2023-01-21T19:01:18.674238Z",
     "start_time": "2023-01-21T19:01:18.650241Z"
    }
   },
   "outputs": [
    {
     "data": {
      "text/plain": [
       "['id',\n",
       " 'gender',\n",
       " 'area',\n",
       " 'qualification',\n",
       " 'income',\n",
       " 'marital_status',\n",
       " 'vintage',\n",
       " 'claim_amount',\n",
       " 'num_policies',\n",
       " 'policy',\n",
       " 'type_of_policy']"
      ]
     },
     "execution_count": 34,
     "metadata": {},
     "output_type": "execute_result"
    }
   ],
   "source": [
    "features"
   ]
  },
  {
   "cell_type": "code",
   "execution_count": 35,
   "id": "83a7c0c0",
   "metadata": {
    "ExecuteTime": {
     "end_time": "2023-01-21T19:02:21.425095Z",
     "start_time": "2023-01-21T19:02:21.401089Z"
    }
   },
   "outputs": [],
   "source": [
    "X_train=train_temp[features]\n",
    "y_train=train_temp[label]\n",
    "\n",
    "X_test=test_temp[features]\n",
    "y_test=test_temp[label]"
   ]
  },
  {
   "cell_type": "code",
   "execution_count": 36,
   "id": "c073a1b8",
   "metadata": {
    "ExecuteTime": {
     "end_time": "2023-01-21T19:02:27.965329Z",
     "start_time": "2023-01-21T19:02:27.933332Z"
    }
   },
   "outputs": [
    {
     "data": {
      "text/html": [
       "<div>\n",
       "<style scoped>\n",
       "    .dataframe tbody tr th:only-of-type {\n",
       "        vertical-align: middle;\n",
       "    }\n",
       "\n",
       "    .dataframe tbody tr th {\n",
       "        vertical-align: top;\n",
       "    }\n",
       "\n",
       "    .dataframe thead th {\n",
       "        text-align: right;\n",
       "    }\n",
       "</style>\n",
       "<table border=\"1\" class=\"dataframe\">\n",
       "  <thead>\n",
       "    <tr style=\"text-align: right;\">\n",
       "      <th></th>\n",
       "      <th>id</th>\n",
       "      <th>gender</th>\n",
       "      <th>area</th>\n",
       "      <th>qualification</th>\n",
       "      <th>income</th>\n",
       "      <th>marital_status</th>\n",
       "      <th>vintage</th>\n",
       "      <th>claim_amount</th>\n",
       "      <th>num_policies</th>\n",
       "      <th>policy</th>\n",
       "      <th>type_of_policy</th>\n",
       "    </tr>\n",
       "  </thead>\n",
       "  <tbody>\n",
       "    <tr>\n",
       "      <th>74014</th>\n",
       "      <td>74015</td>\n",
       "      <td>1</td>\n",
       "      <td>0</td>\n",
       "      <td>1</td>\n",
       "      <td>3</td>\n",
       "      <td>0</td>\n",
       "      <td>7</td>\n",
       "      <td>0</td>\n",
       "      <td>1</td>\n",
       "      <td>1</td>\n",
       "      <td>1</td>\n",
       "    </tr>\n",
       "    <tr>\n",
       "      <th>59620</th>\n",
       "      <td>59621</td>\n",
       "      <td>1</td>\n",
       "      <td>0</td>\n",
       "      <td>2</td>\n",
       "      <td>3</td>\n",
       "      <td>1</td>\n",
       "      <td>1</td>\n",
       "      <td>0</td>\n",
       "      <td>0</td>\n",
       "      <td>1</td>\n",
       "      <td>2</td>\n",
       "    </tr>\n",
       "    <tr>\n",
       "      <th>72972</th>\n",
       "      <td>72973</td>\n",
       "      <td>1</td>\n",
       "      <td>1</td>\n",
       "      <td>0</td>\n",
       "      <td>1</td>\n",
       "      <td>0</td>\n",
       "      <td>4</td>\n",
       "      <td>3632</td>\n",
       "      <td>0</td>\n",
       "      <td>0</td>\n",
       "      <td>1</td>\n",
       "    </tr>\n",
       "    <tr>\n",
       "      <th>14369</th>\n",
       "      <td>14370</td>\n",
       "      <td>1</td>\n",
       "      <td>1</td>\n",
       "      <td>2</td>\n",
       "      <td>0</td>\n",
       "      <td>0</td>\n",
       "      <td>4</td>\n",
       "      <td>9646</td>\n",
       "      <td>1</td>\n",
       "      <td>0</td>\n",
       "      <td>1</td>\n",
       "    </tr>\n",
       "    <tr>\n",
       "      <th>22239</th>\n",
       "      <td>22240</td>\n",
       "      <td>0</td>\n",
       "      <td>1</td>\n",
       "      <td>1</td>\n",
       "      <td>1</td>\n",
       "      <td>0</td>\n",
       "      <td>6</td>\n",
       "      <td>3207</td>\n",
       "      <td>1</td>\n",
       "      <td>0</td>\n",
       "      <td>1</td>\n",
       "    </tr>\n",
       "    <tr>\n",
       "      <th>...</th>\n",
       "      <td>...</td>\n",
       "      <td>...</td>\n",
       "      <td>...</td>\n",
       "      <td>...</td>\n",
       "      <td>...</td>\n",
       "      <td>...</td>\n",
       "      <td>...</td>\n",
       "      <td>...</td>\n",
       "      <td>...</td>\n",
       "      <td>...</td>\n",
       "      <td>...</td>\n",
       "    </tr>\n",
       "    <tr>\n",
       "      <th>21243</th>\n",
       "      <td>21244</td>\n",
       "      <td>1</td>\n",
       "      <td>1</td>\n",
       "      <td>0</td>\n",
       "      <td>1</td>\n",
       "      <td>0</td>\n",
       "      <td>6</td>\n",
       "      <td>8507</td>\n",
       "      <td>1</td>\n",
       "      <td>0</td>\n",
       "      <td>0</td>\n",
       "    </tr>\n",
       "    <tr>\n",
       "      <th>45891</th>\n",
       "      <td>45892</td>\n",
       "      <td>1</td>\n",
       "      <td>1</td>\n",
       "      <td>0</td>\n",
       "      <td>3</td>\n",
       "      <td>1</td>\n",
       "      <td>1</td>\n",
       "      <td>2937</td>\n",
       "      <td>1</td>\n",
       "      <td>2</td>\n",
       "      <td>1</td>\n",
       "    </tr>\n",
       "    <tr>\n",
       "      <th>42613</th>\n",
       "      <td>42614</td>\n",
       "      <td>1</td>\n",
       "      <td>0</td>\n",
       "      <td>0</td>\n",
       "      <td>1</td>\n",
       "      <td>1</td>\n",
       "      <td>5</td>\n",
       "      <td>2020</td>\n",
       "      <td>1</td>\n",
       "      <td>0</td>\n",
       "      <td>1</td>\n",
       "    </tr>\n",
       "    <tr>\n",
       "      <th>43567</th>\n",
       "      <td>43568</td>\n",
       "      <td>0</td>\n",
       "      <td>1</td>\n",
       "      <td>0</td>\n",
       "      <td>1</td>\n",
       "      <td>1</td>\n",
       "      <td>6</td>\n",
       "      <td>3390</td>\n",
       "      <td>0</td>\n",
       "      <td>1</td>\n",
       "      <td>2</td>\n",
       "    </tr>\n",
       "    <tr>\n",
       "      <th>68268</th>\n",
       "      <td>68269</td>\n",
       "      <td>0</td>\n",
       "      <td>1</td>\n",
       "      <td>1</td>\n",
       "      <td>1</td>\n",
       "      <td>0</td>\n",
       "      <td>6</td>\n",
       "      <td>6473</td>\n",
       "      <td>1</td>\n",
       "      <td>2</td>\n",
       "      <td>1</td>\n",
       "    </tr>\n",
       "  </tbody>\n",
       "</table>\n",
       "<p>88498 rows × 11 columns</p>\n",
       "</div>"
      ],
      "text/plain": [
       "          id  gender  area  qualification  income  marital_status  vintage  \\\n",
       "74014  74015       1     0              1       3               0        7   \n",
       "59620  59621       1     0              2       3               1        1   \n",
       "72972  72973       1     1              0       1               0        4   \n",
       "14369  14370       1     1              2       0               0        4   \n",
       "22239  22240       0     1              1       1               0        6   \n",
       "...      ...     ...   ...            ...     ...             ...      ...   \n",
       "21243  21244       1     1              0       1               0        6   \n",
       "45891  45892       1     1              0       3               1        1   \n",
       "42613  42614       1     0              0       1               1        5   \n",
       "43567  43568       0     1              0       1               1        6   \n",
       "68268  68269       0     1              1       1               0        6   \n",
       "\n",
       "       claim_amount  num_policies  policy  type_of_policy  \n",
       "74014             0             1       1               1  \n",
       "59620             0             0       1               2  \n",
       "72972          3632             0       0               1  \n",
       "14369          9646             1       0               1  \n",
       "22239          3207             1       0               1  \n",
       "...             ...           ...     ...             ...  \n",
       "21243          8507             1       0               0  \n",
       "45891          2937             1       2               1  \n",
       "42613          2020             1       0               1  \n",
       "43567          3390             0       1               2  \n",
       "68268          6473             1       2               1  \n",
       "\n",
       "[88498 rows x 11 columns]"
      ]
     },
     "execution_count": 36,
     "metadata": {},
     "output_type": "execute_result"
    }
   ],
   "source": [
    "X_train"
   ]
  },
  {
   "cell_type": "code",
   "execution_count": 37,
   "id": "50fb1a1c",
   "metadata": {
    "ExecuteTime": {
     "end_time": "2023-01-21T19:02:36.369410Z",
     "start_time": "2023-01-21T19:02:36.321396Z"
    }
   },
   "outputs": [
    {
     "data": {
      "text/html": [
       "<div>\n",
       "<style scoped>\n",
       "    .dataframe tbody tr th:only-of-type {\n",
       "        vertical-align: middle;\n",
       "    }\n",
       "\n",
       "    .dataframe tbody tr th {\n",
       "        vertical-align: top;\n",
       "    }\n",
       "\n",
       "    .dataframe thead th {\n",
       "        text-align: right;\n",
       "    }\n",
       "</style>\n",
       "<table border=\"1\" class=\"dataframe\">\n",
       "  <thead>\n",
       "    <tr style=\"text-align: right;\">\n",
       "      <th></th>\n",
       "      <th>id</th>\n",
       "      <th>gender</th>\n",
       "      <th>area</th>\n",
       "      <th>qualification</th>\n",
       "      <th>income</th>\n",
       "      <th>marital_status</th>\n",
       "      <th>vintage</th>\n",
       "      <th>claim_amount</th>\n",
       "      <th>num_policies</th>\n",
       "      <th>policy</th>\n",
       "      <th>type_of_policy</th>\n",
       "    </tr>\n",
       "  </thead>\n",
       "  <tbody>\n",
       "    <tr>\n",
       "      <th>15102</th>\n",
       "      <td>15103</td>\n",
       "      <td>1</td>\n",
       "      <td>0</td>\n",
       "      <td>0</td>\n",
       "      <td>1</td>\n",
       "      <td>1</td>\n",
       "      <td>5</td>\n",
       "      <td>6319</td>\n",
       "      <td>1</td>\n",
       "      <td>0</td>\n",
       "      <td>1</td>\n",
       "    </tr>\n",
       "    <tr>\n",
       "      <th>80439</th>\n",
       "      <td>80440</td>\n",
       "      <td>1</td>\n",
       "      <td>1</td>\n",
       "      <td>1</td>\n",
       "      <td>0</td>\n",
       "      <td>1</td>\n",
       "      <td>8</td>\n",
       "      <td>5564</td>\n",
       "      <td>1</td>\n",
       "      <td>0</td>\n",
       "      <td>2</td>\n",
       "    </tr>\n",
       "    <tr>\n",
       "      <th>38719</th>\n",
       "      <td>38720</td>\n",
       "      <td>1</td>\n",
       "      <td>1</td>\n",
       "      <td>1</td>\n",
       "      <td>0</td>\n",
       "      <td>1</td>\n",
       "      <td>0</td>\n",
       "      <td>3553</td>\n",
       "      <td>1</td>\n",
       "      <td>1</td>\n",
       "      <td>2</td>\n",
       "    </tr>\n",
       "    <tr>\n",
       "      <th>67258</th>\n",
       "      <td>67259</td>\n",
       "      <td>0</td>\n",
       "      <td>1</td>\n",
       "      <td>0</td>\n",
       "      <td>3</td>\n",
       "      <td>1</td>\n",
       "      <td>3</td>\n",
       "      <td>9272</td>\n",
       "      <td>1</td>\n",
       "      <td>1</td>\n",
       "      <td>2</td>\n",
       "    </tr>\n",
       "    <tr>\n",
       "      <th>16758</th>\n",
       "      <td>16759</td>\n",
       "      <td>0</td>\n",
       "      <td>1</td>\n",
       "      <td>1</td>\n",
       "      <td>1</td>\n",
       "      <td>0</td>\n",
       "      <td>4</td>\n",
       "      <td>0</td>\n",
       "      <td>0</td>\n",
       "      <td>1</td>\n",
       "      <td>1</td>\n",
       "    </tr>\n",
       "    <tr>\n",
       "      <th>...</th>\n",
       "      <td>...</td>\n",
       "      <td>...</td>\n",
       "      <td>...</td>\n",
       "      <td>...</td>\n",
       "      <td>...</td>\n",
       "      <td>...</td>\n",
       "      <td>...</td>\n",
       "      <td>...</td>\n",
       "      <td>...</td>\n",
       "      <td>...</td>\n",
       "      <td>...</td>\n",
       "    </tr>\n",
       "    <tr>\n",
       "      <th>84808</th>\n",
       "      <td>84809</td>\n",
       "      <td>0</td>\n",
       "      <td>0</td>\n",
       "      <td>1</td>\n",
       "      <td>1</td>\n",
       "      <td>1</td>\n",
       "      <td>4</td>\n",
       "      <td>2325</td>\n",
       "      <td>0</td>\n",
       "      <td>1</td>\n",
       "      <td>1</td>\n",
       "    </tr>\n",
       "    <tr>\n",
       "      <th>74182</th>\n",
       "      <td>74183</td>\n",
       "      <td>0</td>\n",
       "      <td>1</td>\n",
       "      <td>1</td>\n",
       "      <td>1</td>\n",
       "      <td>0</td>\n",
       "      <td>2</td>\n",
       "      <td>2401</td>\n",
       "      <td>0</td>\n",
       "      <td>1</td>\n",
       "      <td>0</td>\n",
       "    </tr>\n",
       "    <tr>\n",
       "      <th>61656</th>\n",
       "      <td>61657</td>\n",
       "      <td>0</td>\n",
       "      <td>0</td>\n",
       "      <td>0</td>\n",
       "      <td>1</td>\n",
       "      <td>0</td>\n",
       "      <td>7</td>\n",
       "      <td>6571</td>\n",
       "      <td>1</td>\n",
       "      <td>1</td>\n",
       "      <td>2</td>\n",
       "    </tr>\n",
       "    <tr>\n",
       "      <th>29519</th>\n",
       "      <td>29520</td>\n",
       "      <td>1</td>\n",
       "      <td>1</td>\n",
       "      <td>0</td>\n",
       "      <td>1</td>\n",
       "      <td>1</td>\n",
       "      <td>3</td>\n",
       "      <td>5450</td>\n",
       "      <td>0</td>\n",
       "      <td>0</td>\n",
       "      <td>2</td>\n",
       "    </tr>\n",
       "    <tr>\n",
       "      <th>8694</th>\n",
       "      <td>8695</td>\n",
       "      <td>1</td>\n",
       "      <td>1</td>\n",
       "      <td>0</td>\n",
       "      <td>0</td>\n",
       "      <td>1</td>\n",
       "      <td>1</td>\n",
       "      <td>13679</td>\n",
       "      <td>1</td>\n",
       "      <td>1</td>\n",
       "      <td>2</td>\n",
       "    </tr>\n",
       "  </tbody>\n",
       "</table>\n",
       "<p>894 rows × 11 columns</p>\n",
       "</div>"
      ],
      "text/plain": [
       "          id  gender  area  qualification  income  marital_status  vintage  \\\n",
       "15102  15103       1     0              0       1               1        5   \n",
       "80439  80440       1     1              1       0               1        8   \n",
       "38719  38720       1     1              1       0               1        0   \n",
       "67258  67259       0     1              0       3               1        3   \n",
       "16758  16759       0     1              1       1               0        4   \n",
       "...      ...     ...   ...            ...     ...             ...      ...   \n",
       "84808  84809       0     0              1       1               1        4   \n",
       "74182  74183       0     1              1       1               0        2   \n",
       "61656  61657       0     0              0       1               0        7   \n",
       "29519  29520       1     1              0       1               1        3   \n",
       "8694    8695       1     1              0       0               1        1   \n",
       "\n",
       "       claim_amount  num_policies  policy  type_of_policy  \n",
       "15102          6319             1       0               1  \n",
       "80439          5564             1       0               2  \n",
       "38719          3553             1       1               2  \n",
       "67258          9272             1       1               2  \n",
       "16758             0             0       1               1  \n",
       "...             ...           ...     ...             ...  \n",
       "84808          2325             0       1               1  \n",
       "74182          2401             0       1               0  \n",
       "61656          6571             1       1               2  \n",
       "29519          5450             0       0               2  \n",
       "8694          13679             1       1               2  \n",
       "\n",
       "[894 rows x 11 columns]"
      ]
     },
     "execution_count": 37,
     "metadata": {},
     "output_type": "execute_result"
    }
   ],
   "source": [
    "X_test"
   ]
  },
  {
   "cell_type": "code",
   "execution_count": 38,
   "id": "dc391860",
   "metadata": {
    "ExecuteTime": {
     "end_time": "2023-01-21T19:02:57.726066Z",
     "start_time": "2023-01-21T19:02:57.702048Z"
    }
   },
   "outputs": [
    {
     "data": {
      "text/plain": [
       "74014     71868\n",
       "59620     39456\n",
       "72972     62484\n",
       "14369    360504\n",
       "22239     99528\n",
       "          ...  \n",
       "21243    117048\n",
       "45891     66552\n",
       "42613     68868\n",
       "43567     28296\n",
       "68268    100848\n",
       "Name: cltv, Length: 88498, dtype: int64"
      ]
     },
     "execution_count": 38,
     "metadata": {},
     "output_type": "execute_result"
    }
   ],
   "source": [
    "y_train"
   ]
  },
  {
   "cell_type": "code",
   "execution_count": 39,
   "id": "a165aa7f",
   "metadata": {
    "ExecuteTime": {
     "end_time": "2023-01-21T19:04:43.365296Z",
     "start_time": "2023-01-21T19:04:43.347327Z"
    }
   },
   "outputs": [
    {
     "data": {
      "text/plain": [
       "15102     62220\n",
       "80439    141900\n",
       "38719     70572\n",
       "67258     67032\n",
       "16758     50232\n",
       "          ...  \n",
       "84808     48372\n",
       "74182     33288\n",
       "61656     70440\n",
       "29519     33756\n",
       "8694     225324\n",
       "Name: cltv, Length: 894, dtype: int64"
      ]
     },
     "execution_count": 39,
     "metadata": {},
     "output_type": "execute_result"
    }
   ],
   "source": [
    "y_test"
   ]
  },
  {
   "cell_type": "code",
   "execution_count": 40,
   "id": "37f87223",
   "metadata": {
    "ExecuteTime": {
     "end_time": "2023-01-21T19:12:12.710351Z",
     "start_time": "2023-01-21T19:12:11.961014Z"
    }
   },
   "outputs": [
    {
     "data": {
      "text/html": [
       "<style>#sk-container-id-1 {color: black;background-color: white;}#sk-container-id-1 pre{padding: 0;}#sk-container-id-1 div.sk-toggleable {background-color: white;}#sk-container-id-1 label.sk-toggleable__label {cursor: pointer;display: block;width: 100%;margin-bottom: 0;padding: 0.3em;box-sizing: border-box;text-align: center;}#sk-container-id-1 label.sk-toggleable__label-arrow:before {content: \"▸\";float: left;margin-right: 0.25em;color: #696969;}#sk-container-id-1 label.sk-toggleable__label-arrow:hover:before {color: black;}#sk-container-id-1 div.sk-estimator:hover label.sk-toggleable__label-arrow:before {color: black;}#sk-container-id-1 div.sk-toggleable__content {max-height: 0;max-width: 0;overflow: hidden;text-align: left;background-color: #f0f8ff;}#sk-container-id-1 div.sk-toggleable__content pre {margin: 0.2em;color: black;border-radius: 0.25em;background-color: #f0f8ff;}#sk-container-id-1 input.sk-toggleable__control:checked~div.sk-toggleable__content {max-height: 200px;max-width: 100%;overflow: auto;}#sk-container-id-1 input.sk-toggleable__control:checked~label.sk-toggleable__label-arrow:before {content: \"▾\";}#sk-container-id-1 div.sk-estimator input.sk-toggleable__control:checked~label.sk-toggleable__label {background-color: #d4ebff;}#sk-container-id-1 div.sk-label input.sk-toggleable__control:checked~label.sk-toggleable__label {background-color: #d4ebff;}#sk-container-id-1 input.sk-hidden--visually {border: 0;clip: rect(1px 1px 1px 1px);clip: rect(1px, 1px, 1px, 1px);height: 1px;margin: -1px;overflow: hidden;padding: 0;position: absolute;width: 1px;}#sk-container-id-1 div.sk-estimator {font-family: monospace;background-color: #f0f8ff;border: 1px dotted black;border-radius: 0.25em;box-sizing: border-box;margin-bottom: 0.5em;}#sk-container-id-1 div.sk-estimator:hover {background-color: #d4ebff;}#sk-container-id-1 div.sk-parallel-item::after {content: \"\";width: 100%;border-bottom: 1px solid gray;flex-grow: 1;}#sk-container-id-1 div.sk-label:hover label.sk-toggleable__label {background-color: #d4ebff;}#sk-container-id-1 div.sk-serial::before {content: \"\";position: absolute;border-left: 1px solid gray;box-sizing: border-box;top: 0;bottom: 0;left: 50%;z-index: 0;}#sk-container-id-1 div.sk-serial {display: flex;flex-direction: column;align-items: center;background-color: white;padding-right: 0.2em;padding-left: 0.2em;position: relative;}#sk-container-id-1 div.sk-item {position: relative;z-index: 1;}#sk-container-id-1 div.sk-parallel {display: flex;align-items: stretch;justify-content: center;background-color: white;position: relative;}#sk-container-id-1 div.sk-item::before, #sk-container-id-1 div.sk-parallel-item::before {content: \"\";position: absolute;border-left: 1px solid gray;box-sizing: border-box;top: 0;bottom: 0;left: 50%;z-index: -1;}#sk-container-id-1 div.sk-parallel-item {display: flex;flex-direction: column;z-index: 1;position: relative;background-color: white;}#sk-container-id-1 div.sk-parallel-item:first-child::after {align-self: flex-end;width: 50%;}#sk-container-id-1 div.sk-parallel-item:last-child::after {align-self: flex-start;width: 50%;}#sk-container-id-1 div.sk-parallel-item:only-child::after {width: 0;}#sk-container-id-1 div.sk-dashed-wrapped {border: 1px dashed gray;margin: 0 0.4em 0.5em 0.4em;box-sizing: border-box;padding-bottom: 0.4em;background-color: white;}#sk-container-id-1 div.sk-label label {font-family: monospace;font-weight: bold;display: inline-block;line-height: 1.2em;}#sk-container-id-1 div.sk-label-container {text-align: center;}#sk-container-id-1 div.sk-container {/* jupyter's `normalize.less` sets `[hidden] { display: none; }` but bootstrap.min.css set `[hidden] { display: none !important; }` so we also need the `!important` here to be able to override the default hidden behavior on the sphinx rendered scikit-learn.org. See: https://github.com/scikit-learn/scikit-learn/issues/21755 */display: inline-block !important;position: relative;}#sk-container-id-1 div.sk-text-repr-fallback {display: none;}</style><div id=\"sk-container-id-1\" class=\"sk-top-container\"><div class=\"sk-text-repr-fallback\"><pre>LinearRegression()</pre><b>In a Jupyter environment, please rerun this cell to show the HTML representation or trust the notebook. <br />On GitHub, the HTML representation is unable to render, please try loading this page with nbviewer.org.</b></div><div class=\"sk-container\" hidden><div class=\"sk-item\"><div class=\"sk-estimator sk-toggleable\"><input class=\"sk-toggleable__control sk-hidden--visually\" id=\"sk-estimator-id-1\" type=\"checkbox\" checked><label for=\"sk-estimator-id-1\" class=\"sk-toggleable__label sk-toggleable__label-arrow\">LinearRegression</label><div class=\"sk-toggleable__content\"><pre>LinearRegression()</pre></div></div></div></div></div>"
      ],
      "text/plain": [
       "LinearRegression()"
      ]
     },
     "execution_count": 40,
     "metadata": {},
     "output_type": "execute_result"
    }
   ],
   "source": [
    " reg = LinearRegression()\n",
    "reg.fit(X_train, y_train)"
   ]
  },
  {
   "cell_type": "code",
   "execution_count": 41,
   "id": "7042542c",
   "metadata": {
    "ExecuteTime": {
     "end_time": "2023-01-21T19:12:26.940997Z",
     "start_time": "2023-01-21T19:12:26.908998Z"
    }
   },
   "outputs": [],
   "source": [
    "pred = reg.predict(X_test)"
   ]
  },
  {
   "cell_type": "code",
   "execution_count": 42,
   "id": "58850ce1",
   "metadata": {
    "ExecuteTime": {
     "end_time": "2023-01-21T19:12:34.061354Z",
     "start_time": "2023-01-21T19:12:33.934149Z"
    }
   },
   "outputs": [
    {
     "data": {
      "text/plain": [
       "array([118360.7078498 , 122024.39786395, 117159.77130282, 127236.55086037,\n",
       "        47046.18418441,  61029.08427855,  66083.69003386, 111955.33814128,\n",
       "       127272.73901945, 133802.32574191,  41065.86496931,  57159.92902682,\n",
       "       108041.71815554,  99890.79889581, 105318.58773499, 118273.76904239,\n",
       "       112253.5840393 , 125674.11517714,  62734.62125802,  71687.69043875,\n",
       "       130016.85842914, 124601.02051365, 115565.25543119, 126433.83067955,\n",
       "        93867.32232097, 104656.8691251 , 120359.76944127, 119213.92194318,\n",
       "       129716.75464563, 135451.7895844 , 141627.37666828,  43038.57856799,\n",
       "       127503.54820215, 103575.87297902, 105913.56350535, 127505.63127495,\n",
       "       113004.36848962, 154142.86847347, 107913.91744261, 143770.92094853,\n",
       "       106244.62362849,  67743.25454779, 139519.65885915,  60944.72424195,\n",
       "        61997.52233987, 136077.39451253, 135031.34798911, 115385.72769394,\n",
       "       137083.64670369,  48725.33238414, 116016.72972022,  60098.56930309,\n",
       "        59935.07761793,  61063.98624151, 136142.76028725, 131867.54657088,\n",
       "       130704.62663136,  46731.64737443, 122944.42309727, 116678.43285837,\n",
       "        51417.65298594, 123208.32261506, 108734.1840305 , 105226.21907733,\n",
       "       126067.80997403, 143203.14002874, 123960.3295387 , 112184.83260179,\n",
       "        54657.88074735, 125832.060427  ,  57493.18810246, 121492.13034148,\n",
       "       124890.93041111,  32606.839869  , 105822.40526983,  33245.15299531,\n",
       "       122222.7654317 , 100196.88220078,  42125.37066225,  47730.52068634,\n",
       "       134386.08808541,  95863.21305084,  57146.06808413,  39126.82316403,\n",
       "       134784.51968789, 125759.29699159,  59052.87271674, 123152.21586805,\n",
       "       128727.88006013, 126923.44207491, 126670.53683491, 138408.31036749,\n",
       "        56226.85990943, 126221.22986366, 124009.30885495, 126848.85668204,\n",
       "       111764.77339302, 123426.82639489,  95286.22771168,  62147.49472702,\n",
       "        40625.81687998, 123820.12127504,  46296.64154065,  43025.11825232,\n",
       "        58042.64835458,  59109.29215632,  42653.84454656, 114639.05456588,\n",
       "        52182.24526971, 110708.11580107, 113511.37806321, 127258.34001281,\n",
       "       105777.24112057, 109254.55707611, 114634.24755396,  46957.51986568,\n",
       "        55334.07387794,  37039.17202763, 115668.06669217,  94734.2419055 ,\n",
       "       128200.86767425, 135002.42377605,  55242.87058076,  54862.68277776,\n",
       "       132233.50010122, 120012.58347698, 124580.54770304, 130652.7698265 ,\n",
       "       103724.68809359, 129125.10139792, 116921.00478509,  49411.83470981,\n",
       "        42694.39958769, 126454.5887757 ,  53518.52581922,  39487.16199176,\n",
       "       117119.55832673, 119438.00989757, 108611.5512028 , 107745.77765046,\n",
       "        58412.66561719, 116594.54350097,  97502.27574598,  55243.04343266,\n",
       "       115072.63063554, 134658.46280821, 133390.62413758,  63505.78848739,\n",
       "       139313.28076297, 110449.75756392, 111781.80927659, 121520.2725252 ,\n",
       "       136104.42052619,  53130.35097951, 132975.54074688, 136848.66120216,\n",
       "        41444.84818712, 125363.35688669, 131774.79524509, 120069.03473366,\n",
       "       120388.4251806 , 105603.53243845, 118784.0880215 , 109156.48519807,\n",
       "       121844.21310075, 123545.43932273,  36996.67875737, 138751.85618826,\n",
       "        38306.16464057,  59138.67709317,  31506.22083057, 100636.78532329,\n",
       "        46422.65633876, 105809.77985506, 115746.69863721, 132369.18730316,\n",
       "        31111.28926228,  62681.46893871, 104781.73625166, 117608.25099261,\n",
       "        61301.3866367 , 128895.70142482, 128584.62377525, 110512.62603676,\n",
       "       128083.36143314, 129082.60211013,  62304.85904299,  60399.64237996,\n",
       "       148192.30202871,  99892.79916748,  39596.08215412, 122451.10004444,\n",
       "       113533.95304329,  57915.07832896, 118719.65319984,  38253.48222208,\n",
       "        59067.47886784,  58247.71700309, 116432.66675578, 112378.97328988,\n",
       "       110849.87713839, 119040.3284695 ,  57051.51664775,  89488.75318407,\n",
       "       100887.34469453, 117384.65557763, 137027.78920051,  36556.68594757,\n",
       "       123943.04425096, 115173.1508591 ,  99033.52466098, 118564.6175672 ,\n",
       "       120230.90209227, 102588.00725586, 112429.0076746 ,  59572.01659673,\n",
       "       115072.1785511 , 144146.93481582, 111766.06496422, 151330.7724527 ,\n",
       "       134636.73239221, 121678.15484838,  41873.30918739, 119918.5353728 ,\n",
       "        61755.60058775, 143163.5872731 ,  39829.08365709,  34186.40967876,\n",
       "       140776.33531102, 128437.38204916, 125160.60214647, 128452.03476435,\n",
       "        56087.93448497, 123625.12013262, 130922.49524429, 116152.64406202,\n",
       "       119625.84598612, 143038.44251865,  41785.58876957, 140271.31615556,\n",
       "       126434.42974907,  57778.66279028, 113092.66500216, 113519.77168487,\n",
       "       108257.33667453,  49044.81391958,  64717.10220507, 122416.35117538,\n",
       "        53932.61550345, 129989.51663244,  53784.04316633,  51261.40961257,\n",
       "       132113.74510172, 107878.69770193, 147000.79511648,  99748.86171785,\n",
       "       137827.0774507 ,  79932.97012164,  60175.41683562, 124906.47391646,\n",
       "       110096.2164511 , 121824.83950602,  99599.89412526,  54868.77808638,\n",
       "       124723.54212841,  33194.20024921, 110172.25872998, 133191.19381178,\n",
       "       109377.86895821,  63018.53640613, 108159.84575407, 127105.33806578,\n",
       "       122772.41163554,  69129.19095114, 115276.94290398, 121994.98762397,\n",
       "       125843.95000344, 117489.59131397, 122350.66962706, 115799.73188106,\n",
       "       115149.38222615, 122350.01449321, 105013.90009817,  35240.36748366,\n",
       "        61394.13599167, 150180.22111576, 116054.55012285,  41289.87776952,\n",
       "       127770.17875581, 125467.76814237,  36644.83773594, 116020.06575181,\n",
       "        95151.23947088, 119605.45620994,  52069.51213656,  58487.52122661,\n",
       "       120157.31829398, 128498.05808746,  52169.95431728, 133048.05568938,\n",
       "       120164.25623466, 122553.55847198,  42466.10776912, 132182.86328241,\n",
       "       127232.75206479, 115115.83447914,  55311.68894107, 132994.64708713,\n",
       "       132466.68990147,  43431.67757016,  37255.16120496, 127776.89903373,\n",
       "        41336.9659742 , 120093.41568862, 109709.06723073,  61487.08449319,\n",
       "       105556.13558212,  62332.48525658, 110861.2584899 ,  96979.17448665,\n",
       "       133123.43651186,  57593.71448621, 121719.82580037, 120484.59419886,\n",
       "        98268.45932534,  60932.07289562, 164246.38845539, 123897.83416098,\n",
       "        49255.63740943, 113982.2480504 ,  39858.08708724,  34516.4586127 ,\n",
       "       122875.6661842 ,  33393.63250752,  29626.94527422, 128048.58234723,\n",
       "        62500.98841789,  65993.6133248 , 126038.9937447 ,  47123.78577367,\n",
       "        34588.63810291, 141375.76326826, 118919.60147896, 124996.72566073,\n",
       "       118435.02805054,  61874.24266675, 121865.19664588, 107852.58238916,\n",
       "       129476.81159287, 143419.69500666, 128025.84585835,  37008.06902992,\n",
       "       119801.47462507,  32212.39314714, 124251.40353925,  49383.12310024,\n",
       "       123869.00572874, 103844.5703389 , 131964.77851442, 103434.06055215,\n",
       "        41881.21145513,  57648.87852806, 144804.79296569, 109531.48086759,\n",
       "       129845.2016247 ,  42611.61769821, 105893.35488644, 118241.88269514,\n",
       "       123748.85373561,  60422.93997997, 107149.41002345, 108584.139437  ,\n",
       "        54512.28375049, 150851.4458446 , 117283.84874115, 147307.33488837,\n",
       "       140562.47352391, 126532.21943377, 103649.59810294, 123682.00146714,\n",
       "        36576.05011488, 113630.32611712, 127091.48812906, 122324.33543595,\n",
       "       117340.5504086 , 109811.49049869, 122360.14213226, 130771.2988885 ,\n",
       "        34000.82669384,  59006.74369918,  56959.3853778 , 135016.62968309,\n",
       "       140080.68770748,  99894.252839  , 137634.42957349, 143230.72252224,\n",
       "        37304.72525472, 139232.83674132, 109330.19456515, 121799.43722852,\n",
       "       125974.65515398, 122379.27961276, 125908.61976741, 105333.83835744,\n",
       "       118605.55870021, 119561.04196265,  43839.55214953, 121862.97149764,\n",
       "       107543.89923272,  45705.49925368,  95769.42299157,  99023.34196032,\n",
       "       103592.96957805, 130006.0561593 , 131310.70155174, 131184.8661414 ,\n",
       "        99061.73308924,  45499.03763005,  51176.48821616, 124350.11809421,\n",
       "       120258.42526161, 116608.35594515,  37146.39612986, 116485.90051635,\n",
       "       107021.52073243, 119322.85194172, 112009.26726035,  56589.6607628 ,\n",
       "        33031.85946685, 125601.06866651, 119067.25341111,  47011.26751827,\n",
       "        57323.73841124, 134497.98321298,  44547.12090668,  29940.56756901,\n",
       "       147195.74877358, 112434.63754265, 120366.32303329,  50168.97659119,\n",
       "        52116.73969261, 116279.78041907,  38454.17586485, 103660.55534844,\n",
       "       128536.367609  ,  43620.73587772, 152952.69583418,  39964.75775148,\n",
       "       117942.91237168, 121147.6449303 , 132378.40094687, 108001.58838061,\n",
       "       117876.48174968, 140987.13303983,  75578.61552397, 124819.74228301,\n",
       "       123274.1558673 ,  49971.49683545, 118931.64372036, 124387.99822079,\n",
       "       107235.04499498, 123086.38160941, 119144.90408032, 116368.35950598,\n",
       "        58421.64587259, 107738.00698836,  30431.01356004, 102511.86139538,\n",
       "       121348.14553783, 102691.70407136, 125989.45279749,  74743.08907767,\n",
       "       134063.95169002, 126986.62836376, 108815.76887211, 130796.39437502,\n",
       "       126610.82633108,  54181.44461917, 122790.79869825, 126805.36244118,\n",
       "        51419.11464187, 135942.37331983,  57851.70987549, 138226.19706687,\n",
       "        48898.98025758,  64520.06190584,  53299.4102966 , 128472.8461875 ,\n",
       "       122820.23980646, 114728.03615357,  31117.2021657 , 119264.27517302,\n",
       "       119753.61110054,  34422.89311891,  31331.49102911, 114675.53258254,\n",
       "       145186.22551949,  41817.95579951,  62826.87061994,  56317.60081462,\n",
       "       112318.76268206, 117666.04853173, 124204.31456426, 105981.31489632,\n",
       "       115099.13993772, 130222.69990303, 123048.66546892,  58407.03065895,\n",
       "       122058.75191147,  40547.50744097, 164102.75022974, 123928.90162933,\n",
       "       136526.88182232, 119549.83652712,  34211.8428199 , 124252.15938008,\n",
       "       125003.62039911, 123740.60859363, 127452.79661917,  48568.25553622,\n",
       "        52634.11394152, 131057.83516318, 142506.14781641, 101347.44191766,\n",
       "        98567.33410816,  98997.05233685,  41288.23558096,  56161.84170458,\n",
       "       110359.84105328,  48707.12926155, 106172.28238197,  61737.44938919,\n",
       "       122010.73447556, 123609.99521674, 131257.94825944,  33704.41072901,\n",
       "        33056.12782242,  56047.50077486, 134069.90910991,  57213.49774611,\n",
       "        37655.78287307, 117252.85686252, 133872.17657652,  31714.48401693,\n",
       "        50600.23316425, 122168.72914048, 156837.02217191,  40362.62496123,\n",
       "       122163.38638054, 119483.84944808, 119610.60650759,  65285.0163595 ,\n",
       "       109040.14588474,  45943.21107571,  50920.76290153,  98138.22801529,\n",
       "       122768.58453799, 111712.4577766 ,  66229.62062499, 116897.43123636,\n",
       "       126185.34952209, 132251.08012094,  56656.08630352, 127127.28108487,\n",
       "        99192.19520722, 128292.71685493, 112947.38246225,  52111.00226789,\n",
       "       136908.79050908, 122149.24254966,  42568.32867209, 155012.32862414,\n",
       "        47599.99181525,  35616.60724112, 120286.72007076, 117886.53164321,\n",
       "       120414.58729133,  41192.28696552, 116957.26435429, 127081.96992909,\n",
       "       137709.28306845,  55160.58835197, 123497.38365135, 122738.84847384,\n",
       "        60436.61022997,  58372.16513722, 133764.72266599, 123474.29805519,\n",
       "       128662.48074594, 111861.4041861 ,  99380.47782557,  47049.49489779,\n",
       "        63517.72353801, 129360.43606497, 107549.38555663, 124931.73733039,\n",
       "       120895.74961512, 128232.08591768, 116564.47047675,  73476.15892071,\n",
       "       140691.29146251, 120048.91531471,  43249.76206912,  44467.8497128 ,\n",
       "        57320.08005495,  49597.42082586, 131084.02419985,  96021.72898601,\n",
       "       107836.62657454, 110009.86757937,  49802.64661114, 135734.21486552,\n",
       "       121162.31286607,  44595.06305312, 125683.47465498,  44472.14582682,\n",
       "       129657.7577718 , 119186.57648357,  55871.45360767, 127064.19658597,\n",
       "       132695.95164552, 129364.25053609, 114140.82073365,  74164.90029013,\n",
       "        55307.21675389, 132397.33377344,  57822.34377035,  47586.70036157,\n",
       "       130628.61737371,  31859.51553906,  99210.02144765, 114384.84792819,\n",
       "       126529.33850909, 126749.73708409, 110557.20526142, 128127.82021908,\n",
       "        30194.23528502, 108308.92175731,  57221.45963704, 114363.47905042,\n",
       "       113293.30350084,  54605.69741979, 110016.07202651,  82675.99748042,\n",
       "       120117.39927916, 153554.87277832, 103470.93824431, 108059.97182942,\n",
       "       107471.81365632, 121026.13526531, 137431.01241738, 134357.01096621,\n",
       "       100010.39578798, 130089.27562242, 115845.41577097, 125523.14358093,\n",
       "       106039.54238124, 131972.25997208,  62005.58786481, 111109.13335923,\n",
       "        38287.07691558,  98573.47955015, 104656.54712243,  31276.60084506,\n",
       "        61803.14482435, 117114.76991736, 139537.20346805, 124055.3116198 ,\n",
       "        55230.93961234,  60962.26918634, 131857.41541033, 115954.01607308,\n",
       "       114882.74872237, 131488.65808506,  64414.91238208, 122426.02672774,\n",
       "        56577.72240486, 121530.81521132,  49088.27946718, 118076.46516402,\n",
       "       113909.96211012,  99024.95031562, 115972.00217955,  53608.53239611,\n",
       "       123407.0287337 , 109729.25513401,  47058.44715099, 128034.70457528,\n",
       "       130566.51491056, 116253.50673034, 123419.39732516,  29385.28642362,\n",
       "       132386.469395  , 135493.35861179, 112180.60072675, 103580.96514816,\n",
       "        49382.73369957, 107136.56941632, 122175.90690459,  55870.1160236 ,\n",
       "       124836.59856219, 122121.5668902 , 113609.22850799, 146565.66509285,\n",
       "       106040.42366769, 106983.17699618, 122759.51984289, 106398.26563036,\n",
       "       124988.74071734, 154478.15783456,  51055.0067749 , 107954.94797712,\n",
       "       117168.057138  , 135342.16077324, 134643.77364379, 130062.9911977 ,\n",
       "        56501.93944741, 143097.74656467, 119561.03713705, 114488.91440505,\n",
       "       118118.26108775, 123918.1349445 ,  52987.85660156,  56421.63266423,\n",
       "       118790.48764398, 119020.81628096,  58254.89914505, 125383.54955557,\n",
       "       117124.9023326 ,  58159.44282886,  64630.91172441, 118325.51057497,\n",
       "        49033.04539619, 124808.34144929,  54594.77096943, 116787.60614756,\n",
       "       110231.71774349, 103009.08509036, 113146.89260146,  52354.40473659,\n",
       "       136950.72292461, 108753.46112293,  47917.18630668, 113994.73917519,\n",
       "       129840.35507227,  58415.5388894 ,  28846.23980548, 144641.82627877,\n",
       "        64498.12119719, 109047.80923954, 133020.28214408, 109896.85026204,\n",
       "       123460.94802955, 117058.18317783, 170906.02506319, 132286.8084466 ,\n",
       "        64015.00689681,  53129.07557469,  61695.69753049, 107475.84156596,\n",
       "        33634.58922645, 111060.70750398, 104848.85522848, 102235.26714176,\n",
       "        95972.69352459,  48039.4933839 , 130161.85811698, 123419.95814898,\n",
       "       134777.8057903 ,  99207.59450853, 129248.28795175,  76815.60846288,\n",
       "       114890.1518251 , 115074.47990077, 126634.9743386 , 125523.04263295,\n",
       "       115658.06137215, 107526.03088311,  57495.8716921 ,  68853.674084  ,\n",
       "       129240.78611788, 128973.01589291, 127848.97423056, 126714.42704063,\n",
       "       176164.24953043,  39985.20141173,  60593.33078244, 120677.3175304 ,\n",
       "       121004.61476879, 115436.02398702, 101122.30232159, 127181.27791715,\n",
       "       120329.58179275,  48214.45789093,  93626.08180203,  39883.07006738,\n",
       "        56654.69400464,  48951.95423451, 118662.85654521,  95529.35614164,\n",
       "       125074.8557528 ,  52471.13095488,  60531.8997304 ,  62312.1962183 ,\n",
       "       125333.16733224, 113496.40143399,  94266.8394951 , 183344.54425855,\n",
       "       102830.13928518, 104857.58884385, 124319.04021239, 135909.61238433,\n",
       "       185710.42012904,  42771.41657076, 124528.0364267 ,  69529.96748782,\n",
       "       114378.8088517 , 124844.0070842 , 134568.19871603,  24765.37602982,\n",
       "        41816.98179597, 121466.61219762,  65130.53581515,  57153.83268965,\n",
       "       126563.34522187, 128816.6824607 , 136327.13597148, 112994.5582694 ,\n",
       "       134491.53095566, 107964.77680165,  45777.1593331 ,  54929.03920215,\n",
       "       115373.86391889,  61164.1900903 , 105614.9553761 ,  41558.18726894,\n",
       "       128094.415368  , 137793.4531206 , 125733.6938424 ,  37631.25342775,\n",
       "       104654.0359236 , 127207.40566846, 122133.98882165, 115240.11512933,\n",
       "       128618.75288291, 118419.3882012 , 117300.08901699, 120386.4341755 ,\n",
       "        34739.50921115,  42811.18291628, 115978.53579158,  35200.02200763,\n",
       "        60814.93814587, 123811.23413487,  93199.21603507, 105379.44749498,\n",
       "       123515.34136116,  34838.28177792, 133422.97048007,  30853.86976279,\n",
       "       123101.09627213,  40929.88848151, 142656.9050407 ,  50905.26438425,\n",
       "       120437.8416222 , 136218.42132871,  36227.70514178, 133279.13161852,\n",
       "       105941.98660654, 113156.71972974,  71712.45835315, 109269.5671665 ,\n",
       "        52770.52205023, 119950.68444748, 124353.53441195, 129882.42650938,\n",
       "       128791.90270785, 131555.94815078, 117453.73693819, 119119.09261347,\n",
       "        41401.52970568,  57475.33495604, 116496.9283208 , 119170.59896305,\n",
       "       135752.02389637, 117976.93213385, 100073.28095   ,  98395.42702978,\n",
       "       127914.27328511,  38504.89603807,  54987.79168187, 122486.39622896,\n",
       "        56947.70448622, 148218.22379472])"
      ]
     },
     "execution_count": 42,
     "metadata": {},
     "output_type": "execute_result"
    }
   ],
   "source": [
    "pred"
   ]
  },
  {
   "cell_type": "code",
   "execution_count": 43,
   "id": "3b06f320",
   "metadata": {
    "ExecuteTime": {
     "end_time": "2023-01-21T19:13:50.129193Z",
     "start_time": "2023-01-21T19:13:50.097178Z"
    }
   },
   "outputs": [],
   "source": [
    "r2_test = metrics.r2_score(y_test,pred)"
   ]
  },
  {
   "cell_type": "code",
   "execution_count": 44,
   "id": "7d8944bd",
   "metadata": {
    "ExecuteTime": {
     "end_time": "2023-01-21T19:13:53.229578Z",
     "start_time": "2023-01-21T19:13:53.197138Z"
    }
   },
   "outputs": [
    {
     "data": {
      "text/plain": [
       "0.1504945057513043"
      ]
     },
     "execution_count": 44,
     "metadata": {},
     "output_type": "execute_result"
    }
   ],
   "source": [
    "r2_test"
   ]
  },
  {
   "cell_type": "code",
   "execution_count": 45,
   "id": "a4374332",
   "metadata": {
    "ExecuteTime": {
     "end_time": "2023-01-21T19:14:42.441207Z",
     "start_time": "2023-01-21T19:14:42.377213Z"
    }
   },
   "outputs": [],
   "source": [
    "prediction = reg.predict(test_dataset)"
   ]
  },
  {
   "cell_type": "code",
   "execution_count": 46,
   "id": "0af783e8",
   "metadata": {
    "ExecuteTime": {
     "end_time": "2023-01-21T19:14:47.164445Z",
     "start_time": "2023-01-21T19:14:47.148821Z"
    }
   },
   "outputs": [
    {
     "data": {
      "text/plain": [
       "array([107785.78583537, 123949.60429435, 108854.75663578, ...,\n",
       "       115205.72378251, 112001.76554322, 122435.45824425])"
      ]
     },
     "execution_count": 46,
     "metadata": {},
     "output_type": "execute_result"
    }
   ],
   "source": [
    "prediction"
   ]
  },
  {
   "cell_type": "code",
   "execution_count": 48,
   "id": "6c5f3ed3",
   "metadata": {
    "ExecuteTime": {
     "end_time": "2023-01-21T19:28:41.409420Z",
     "start_time": "2023-01-21T19:28:41.377424Z"
    }
   },
   "outputs": [
    {
     "data": {
      "text/plain": [
       "(59595,)"
      ]
     },
     "execution_count": 48,
     "metadata": {},
     "output_type": "execute_result"
    }
   ],
   "source": [
    "prediction.shape"
   ]
  },
  {
   "cell_type": "code",
   "execution_count": 49,
   "id": "d8a7a90e",
   "metadata": {
    "ExecuteTime": {
     "end_time": "2023-01-21T19:28:59.593163Z",
     "start_time": "2023-01-21T19:28:59.575630Z"
    }
   },
   "outputs": [
    {
     "data": {
      "text/plain": [
       "(59595, 11)"
      ]
     },
     "execution_count": 49,
     "metadata": {},
     "output_type": "execute_result"
    }
   ],
   "source": [
    "test_dataset.shape"
   ]
  },
  {
   "cell_type": "code",
   "execution_count": 50,
   "id": "ed28cead",
   "metadata": {
    "ExecuteTime": {
     "end_time": "2023-01-21T19:29:16.339617Z",
     "start_time": "2023-01-21T19:29:16.307620Z"
    }
   },
   "outputs": [],
   "source": [
    "df = pd.DataFrame()\n",
    "df['id']= test_dataset['id']\n",
    "df['cltv']= prediction"
   ]
  },
  {
   "cell_type": "code",
   "execution_count": 51,
   "id": "86a16054",
   "metadata": {
    "ExecuteTime": {
     "end_time": "2023-01-21T19:29:20.735421Z",
     "start_time": "2023-01-21T19:29:20.647430Z"
    }
   },
   "outputs": [
    {
     "data": {
      "text/html": [
       "<div>\n",
       "<style scoped>\n",
       "    .dataframe tbody tr th:only-of-type {\n",
       "        vertical-align: middle;\n",
       "    }\n",
       "\n",
       "    .dataframe tbody tr th {\n",
       "        vertical-align: top;\n",
       "    }\n",
       "\n",
       "    .dataframe thead th {\n",
       "        text-align: right;\n",
       "    }\n",
       "</style>\n",
       "<table border=\"1\" class=\"dataframe\">\n",
       "  <thead>\n",
       "    <tr style=\"text-align: right;\">\n",
       "      <th></th>\n",
       "      <th>id</th>\n",
       "      <th>cltv</th>\n",
       "    </tr>\n",
       "  </thead>\n",
       "  <tbody>\n",
       "    <tr>\n",
       "      <th>0</th>\n",
       "      <td>89393</td>\n",
       "      <td>107785.785835</td>\n",
       "    </tr>\n",
       "    <tr>\n",
       "      <th>1</th>\n",
       "      <td>89394</td>\n",
       "      <td>123949.604294</td>\n",
       "    </tr>\n",
       "    <tr>\n",
       "      <th>2</th>\n",
       "      <td>89395</td>\n",
       "      <td>108854.756636</td>\n",
       "    </tr>\n",
       "    <tr>\n",
       "      <th>3</th>\n",
       "      <td>89396</td>\n",
       "      <td>92552.565775</td>\n",
       "    </tr>\n",
       "    <tr>\n",
       "      <th>4</th>\n",
       "      <td>89397</td>\n",
       "      <td>151697.715074</td>\n",
       "    </tr>\n",
       "    <tr>\n",
       "      <th>...</th>\n",
       "      <td>...</td>\n",
       "      <td>...</td>\n",
       "    </tr>\n",
       "    <tr>\n",
       "      <th>59590</th>\n",
       "      <td>148983</td>\n",
       "      <td>32425.118848</td>\n",
       "    </tr>\n",
       "    <tr>\n",
       "      <th>59591</th>\n",
       "      <td>148984</td>\n",
       "      <td>50401.365721</td>\n",
       "    </tr>\n",
       "    <tr>\n",
       "      <th>59592</th>\n",
       "      <td>148985</td>\n",
       "      <td>115205.723783</td>\n",
       "    </tr>\n",
       "    <tr>\n",
       "      <th>59593</th>\n",
       "      <td>148986</td>\n",
       "      <td>112001.765543</td>\n",
       "    </tr>\n",
       "    <tr>\n",
       "      <th>59594</th>\n",
       "      <td>148987</td>\n",
       "      <td>122435.458244</td>\n",
       "    </tr>\n",
       "  </tbody>\n",
       "</table>\n",
       "<p>59595 rows × 2 columns</p>\n",
       "</div>"
      ],
      "text/plain": [
       "           id           cltv\n",
       "0       89393  107785.785835\n",
       "1       89394  123949.604294\n",
       "2       89395  108854.756636\n",
       "3       89396   92552.565775\n",
       "4       89397  151697.715074\n",
       "...       ...            ...\n",
       "59590  148983   32425.118848\n",
       "59591  148984   50401.365721\n",
       "59592  148985  115205.723783\n",
       "59593  148986  112001.765543\n",
       "59594  148987  122435.458244\n",
       "\n",
       "[59595 rows x 2 columns]"
      ]
     },
     "execution_count": 51,
     "metadata": {},
     "output_type": "execute_result"
    }
   ],
   "source": [
    "df"
   ]
  },
  {
   "cell_type": "code",
   "execution_count": 53,
   "id": "11046e63",
   "metadata": {
    "ExecuteTime": {
     "end_time": "2023-01-21T19:37:56.082801Z",
     "start_time": "2023-01-21T19:37:55.730147Z"
    }
   },
   "outputs": [],
   "source": [
    "df.to_csv('solution.csv')"
   ]
  },
  {
   "cell_type": "code",
   "execution_count": 54,
   "id": "96a42470",
   "metadata": {
    "ExecuteTime": {
     "end_time": "2023-01-21T19:41:52.718733Z",
     "start_time": "2023-01-21T19:41:51.899953Z"
    }
   },
   "outputs": [],
   "source": [
    "sample = pd.read_csv('sample_submission.csv')"
   ]
  },
  {
   "cell_type": "code",
   "execution_count": 55,
   "id": "3a3ce510",
   "metadata": {
    "ExecuteTime": {
     "end_time": "2023-01-21T19:41:57.789444Z",
     "start_time": "2023-01-21T19:41:57.757468Z"
    }
   },
   "outputs": [
    {
     "data": {
      "text/html": [
       "<div>\n",
       "<style scoped>\n",
       "    .dataframe tbody tr th:only-of-type {\n",
       "        vertical-align: middle;\n",
       "    }\n",
       "\n",
       "    .dataframe tbody tr th {\n",
       "        vertical-align: top;\n",
       "    }\n",
       "\n",
       "    .dataframe thead th {\n",
       "        text-align: right;\n",
       "    }\n",
       "</style>\n",
       "<table border=\"1\" class=\"dataframe\">\n",
       "  <thead>\n",
       "    <tr style=\"text-align: right;\">\n",
       "      <th></th>\n",
       "      <th>id</th>\n",
       "      <th>cltv</th>\n",
       "    </tr>\n",
       "  </thead>\n",
       "  <tbody>\n",
       "    <tr>\n",
       "      <th>0</th>\n",
       "      <td>89393</td>\n",
       "      <td>97952.828978</td>\n",
       "    </tr>\n",
       "    <tr>\n",
       "      <th>1</th>\n",
       "      <td>89394</td>\n",
       "      <td>97952.828978</td>\n",
       "    </tr>\n",
       "    <tr>\n",
       "      <th>2</th>\n",
       "      <td>89395</td>\n",
       "      <td>97952.828978</td>\n",
       "    </tr>\n",
       "    <tr>\n",
       "      <th>3</th>\n",
       "      <td>89396</td>\n",
       "      <td>97952.828978</td>\n",
       "    </tr>\n",
       "    <tr>\n",
       "      <th>4</th>\n",
       "      <td>89397</td>\n",
       "      <td>97952.828978</td>\n",
       "    </tr>\n",
       "    <tr>\n",
       "      <th>...</th>\n",
       "      <td>...</td>\n",
       "      <td>...</td>\n",
       "    </tr>\n",
       "    <tr>\n",
       "      <th>59590</th>\n",
       "      <td>148983</td>\n",
       "      <td>97952.828978</td>\n",
       "    </tr>\n",
       "    <tr>\n",
       "      <th>59591</th>\n",
       "      <td>148984</td>\n",
       "      <td>97952.828978</td>\n",
       "    </tr>\n",
       "    <tr>\n",
       "      <th>59592</th>\n",
       "      <td>148985</td>\n",
       "      <td>97952.828978</td>\n",
       "    </tr>\n",
       "    <tr>\n",
       "      <th>59593</th>\n",
       "      <td>148986</td>\n",
       "      <td>97952.828978</td>\n",
       "    </tr>\n",
       "    <tr>\n",
       "      <th>59594</th>\n",
       "      <td>148987</td>\n",
       "      <td>97952.828978</td>\n",
       "    </tr>\n",
       "  </tbody>\n",
       "</table>\n",
       "<p>59595 rows × 2 columns</p>\n",
       "</div>"
      ],
      "text/plain": [
       "           id          cltv\n",
       "0       89393  97952.828978\n",
       "1       89394  97952.828978\n",
       "2       89395  97952.828978\n",
       "3       89396  97952.828978\n",
       "4       89397  97952.828978\n",
       "...       ...           ...\n",
       "59590  148983  97952.828978\n",
       "59591  148984  97952.828978\n",
       "59592  148985  97952.828978\n",
       "59593  148986  97952.828978\n",
       "59594  148987  97952.828978\n",
       "\n",
       "[59595 rows x 2 columns]"
      ]
     },
     "execution_count": 55,
     "metadata": {},
     "output_type": "execute_result"
    }
   ],
   "source": [
    "sample"
   ]
  },
  {
   "cell_type": "code",
   "execution_count": 57,
   "id": "b558a8bb",
   "metadata": {
    "ExecuteTime": {
     "end_time": "2023-01-21T20:08:40.545626Z",
     "start_time": "2023-01-21T20:08:40.514643Z"
    }
   },
   "outputs": [],
   "source": [
    "regr = LinearRegression()"
   ]
  },
  {
   "cell_type": "code",
   "execution_count": 58,
   "id": "99481e44",
   "metadata": {
    "ExecuteTime": {
     "end_time": "2023-01-21T20:09:13.899763Z",
     "start_time": "2023-01-21T20:09:13.509496Z"
    }
   },
   "outputs": [
    {
     "data": {
      "text/html": [
       "<style>#sk-container-id-2 {color: black;background-color: white;}#sk-container-id-2 pre{padding: 0;}#sk-container-id-2 div.sk-toggleable {background-color: white;}#sk-container-id-2 label.sk-toggleable__label {cursor: pointer;display: block;width: 100%;margin-bottom: 0;padding: 0.3em;box-sizing: border-box;text-align: center;}#sk-container-id-2 label.sk-toggleable__label-arrow:before {content: \"▸\";float: left;margin-right: 0.25em;color: #696969;}#sk-container-id-2 label.sk-toggleable__label-arrow:hover:before {color: black;}#sk-container-id-2 div.sk-estimator:hover label.sk-toggleable__label-arrow:before {color: black;}#sk-container-id-2 div.sk-toggleable__content {max-height: 0;max-width: 0;overflow: hidden;text-align: left;background-color: #f0f8ff;}#sk-container-id-2 div.sk-toggleable__content pre {margin: 0.2em;color: black;border-radius: 0.25em;background-color: #f0f8ff;}#sk-container-id-2 input.sk-toggleable__control:checked~div.sk-toggleable__content {max-height: 200px;max-width: 100%;overflow: auto;}#sk-container-id-2 input.sk-toggleable__control:checked~label.sk-toggleable__label-arrow:before {content: \"▾\";}#sk-container-id-2 div.sk-estimator input.sk-toggleable__control:checked~label.sk-toggleable__label {background-color: #d4ebff;}#sk-container-id-2 div.sk-label input.sk-toggleable__control:checked~label.sk-toggleable__label {background-color: #d4ebff;}#sk-container-id-2 input.sk-hidden--visually {border: 0;clip: rect(1px 1px 1px 1px);clip: rect(1px, 1px, 1px, 1px);height: 1px;margin: -1px;overflow: hidden;padding: 0;position: absolute;width: 1px;}#sk-container-id-2 div.sk-estimator {font-family: monospace;background-color: #f0f8ff;border: 1px dotted black;border-radius: 0.25em;box-sizing: border-box;margin-bottom: 0.5em;}#sk-container-id-2 div.sk-estimator:hover {background-color: #d4ebff;}#sk-container-id-2 div.sk-parallel-item::after {content: \"\";width: 100%;border-bottom: 1px solid gray;flex-grow: 1;}#sk-container-id-2 div.sk-label:hover label.sk-toggleable__label {background-color: #d4ebff;}#sk-container-id-2 div.sk-serial::before {content: \"\";position: absolute;border-left: 1px solid gray;box-sizing: border-box;top: 0;bottom: 0;left: 50%;z-index: 0;}#sk-container-id-2 div.sk-serial {display: flex;flex-direction: column;align-items: center;background-color: white;padding-right: 0.2em;padding-left: 0.2em;position: relative;}#sk-container-id-2 div.sk-item {position: relative;z-index: 1;}#sk-container-id-2 div.sk-parallel {display: flex;align-items: stretch;justify-content: center;background-color: white;position: relative;}#sk-container-id-2 div.sk-item::before, #sk-container-id-2 div.sk-parallel-item::before {content: \"\";position: absolute;border-left: 1px solid gray;box-sizing: border-box;top: 0;bottom: 0;left: 50%;z-index: -1;}#sk-container-id-2 div.sk-parallel-item {display: flex;flex-direction: column;z-index: 1;position: relative;background-color: white;}#sk-container-id-2 div.sk-parallel-item:first-child::after {align-self: flex-end;width: 50%;}#sk-container-id-2 div.sk-parallel-item:last-child::after {align-self: flex-start;width: 50%;}#sk-container-id-2 div.sk-parallel-item:only-child::after {width: 0;}#sk-container-id-2 div.sk-dashed-wrapped {border: 1px dashed gray;margin: 0 0.4em 0.5em 0.4em;box-sizing: border-box;padding-bottom: 0.4em;background-color: white;}#sk-container-id-2 div.sk-label label {font-family: monospace;font-weight: bold;display: inline-block;line-height: 1.2em;}#sk-container-id-2 div.sk-label-container {text-align: center;}#sk-container-id-2 div.sk-container {/* jupyter's `normalize.less` sets `[hidden] { display: none; }` but bootstrap.min.css set `[hidden] { display: none !important; }` so we also need the `!important` here to be able to override the default hidden behavior on the sphinx rendered scikit-learn.org. See: https://github.com/scikit-learn/scikit-learn/issues/21755 */display: inline-block !important;position: relative;}#sk-container-id-2 div.sk-text-repr-fallback {display: none;}</style><div id=\"sk-container-id-2\" class=\"sk-top-container\"><div class=\"sk-text-repr-fallback\"><pre>LinearRegression()</pre><b>In a Jupyter environment, please rerun this cell to show the HTML representation or trust the notebook. <br />On GitHub, the HTML representation is unable to render, please try loading this page with nbviewer.org.</b></div><div class=\"sk-container\" hidden><div class=\"sk-item\"><div class=\"sk-estimator sk-toggleable\"><input class=\"sk-toggleable__control sk-hidden--visually\" id=\"sk-estimator-id-2\" type=\"checkbox\" checked><label for=\"sk-estimator-id-2\" class=\"sk-toggleable__label sk-toggleable__label-arrow\">LinearRegression</label><div class=\"sk-toggleable__content\"><pre>LinearRegression()</pre></div></div></div></div></div>"
      ],
      "text/plain": [
       "LinearRegression()"
      ]
     },
     "execution_count": 58,
     "metadata": {},
     "output_type": "execute_result"
    }
   ],
   "source": [
    "regr.fit(X_train,y_train)"
   ]
  },
  {
   "cell_type": "code",
   "execution_count": 59,
   "id": "1f4e0443",
   "metadata": {
    "ExecuteTime": {
     "end_time": "2023-01-21T20:09:43.683930Z",
     "start_time": "2023-01-21T20:09:43.662855Z"
    }
   },
   "outputs": [],
   "source": [
    "y_pred = regr.predict(X_test)"
   ]
  },
  {
   "cell_type": "code",
   "execution_count": 60,
   "id": "039fa447",
   "metadata": {
    "ExecuteTime": {
     "end_time": "2023-01-21T20:09:46.892254Z",
     "start_time": "2023-01-21T20:09:46.830284Z"
    }
   },
   "outputs": [
    {
     "data": {
      "text/plain": [
       "array([118360.7078498 , 122024.39786395, 117159.77130282, 127236.55086037,\n",
       "        47046.18418441,  61029.08427855,  66083.69003386, 111955.33814128,\n",
       "       127272.73901945, 133802.32574191,  41065.86496931,  57159.92902682,\n",
       "       108041.71815554,  99890.79889581, 105318.58773499, 118273.76904239,\n",
       "       112253.5840393 , 125674.11517714,  62734.62125802,  71687.69043875,\n",
       "       130016.85842914, 124601.02051365, 115565.25543119, 126433.83067955,\n",
       "        93867.32232097, 104656.8691251 , 120359.76944127, 119213.92194318,\n",
       "       129716.75464563, 135451.7895844 , 141627.37666828,  43038.57856799,\n",
       "       127503.54820215, 103575.87297902, 105913.56350535, 127505.63127495,\n",
       "       113004.36848962, 154142.86847347, 107913.91744261, 143770.92094853,\n",
       "       106244.62362849,  67743.25454779, 139519.65885915,  60944.72424195,\n",
       "        61997.52233987, 136077.39451253, 135031.34798911, 115385.72769394,\n",
       "       137083.64670369,  48725.33238414, 116016.72972022,  60098.56930309,\n",
       "        59935.07761793,  61063.98624151, 136142.76028725, 131867.54657088,\n",
       "       130704.62663136,  46731.64737443, 122944.42309727, 116678.43285837,\n",
       "        51417.65298594, 123208.32261506, 108734.1840305 , 105226.21907733,\n",
       "       126067.80997403, 143203.14002874, 123960.3295387 , 112184.83260179,\n",
       "        54657.88074735, 125832.060427  ,  57493.18810246, 121492.13034148,\n",
       "       124890.93041111,  32606.839869  , 105822.40526983,  33245.15299531,\n",
       "       122222.7654317 , 100196.88220078,  42125.37066225,  47730.52068634,\n",
       "       134386.08808541,  95863.21305084,  57146.06808413,  39126.82316403,\n",
       "       134784.51968789, 125759.29699159,  59052.87271674, 123152.21586805,\n",
       "       128727.88006013, 126923.44207491, 126670.53683491, 138408.31036749,\n",
       "        56226.85990943, 126221.22986366, 124009.30885495, 126848.85668204,\n",
       "       111764.77339302, 123426.82639489,  95286.22771168,  62147.49472702,\n",
       "        40625.81687998, 123820.12127504,  46296.64154065,  43025.11825232,\n",
       "        58042.64835458,  59109.29215632,  42653.84454656, 114639.05456588,\n",
       "        52182.24526971, 110708.11580107, 113511.37806321, 127258.34001281,\n",
       "       105777.24112057, 109254.55707611, 114634.24755396,  46957.51986568,\n",
       "        55334.07387794,  37039.17202763, 115668.06669217,  94734.2419055 ,\n",
       "       128200.86767425, 135002.42377605,  55242.87058076,  54862.68277776,\n",
       "       132233.50010122, 120012.58347698, 124580.54770304, 130652.7698265 ,\n",
       "       103724.68809359, 129125.10139792, 116921.00478509,  49411.83470981,\n",
       "        42694.39958769, 126454.5887757 ,  53518.52581922,  39487.16199176,\n",
       "       117119.55832673, 119438.00989757, 108611.5512028 , 107745.77765046,\n",
       "        58412.66561719, 116594.54350097,  97502.27574598,  55243.04343266,\n",
       "       115072.63063554, 134658.46280821, 133390.62413758,  63505.78848739,\n",
       "       139313.28076297, 110449.75756392, 111781.80927659, 121520.2725252 ,\n",
       "       136104.42052619,  53130.35097951, 132975.54074688, 136848.66120216,\n",
       "        41444.84818712, 125363.35688669, 131774.79524509, 120069.03473366,\n",
       "       120388.4251806 , 105603.53243845, 118784.0880215 , 109156.48519807,\n",
       "       121844.21310075, 123545.43932273,  36996.67875737, 138751.85618826,\n",
       "        38306.16464057,  59138.67709317,  31506.22083057, 100636.78532329,\n",
       "        46422.65633876, 105809.77985506, 115746.69863721, 132369.18730316,\n",
       "        31111.28926228,  62681.46893871, 104781.73625166, 117608.25099261,\n",
       "        61301.3866367 , 128895.70142482, 128584.62377525, 110512.62603676,\n",
       "       128083.36143314, 129082.60211013,  62304.85904299,  60399.64237996,\n",
       "       148192.30202871,  99892.79916748,  39596.08215412, 122451.10004444,\n",
       "       113533.95304329,  57915.07832896, 118719.65319984,  38253.48222208,\n",
       "        59067.47886784,  58247.71700309, 116432.66675578, 112378.97328988,\n",
       "       110849.87713839, 119040.3284695 ,  57051.51664775,  89488.75318407,\n",
       "       100887.34469453, 117384.65557763, 137027.78920051,  36556.68594757,\n",
       "       123943.04425096, 115173.1508591 ,  99033.52466098, 118564.6175672 ,\n",
       "       120230.90209227, 102588.00725586, 112429.0076746 ,  59572.01659673,\n",
       "       115072.1785511 , 144146.93481582, 111766.06496422, 151330.7724527 ,\n",
       "       134636.73239221, 121678.15484838,  41873.30918739, 119918.5353728 ,\n",
       "        61755.60058775, 143163.5872731 ,  39829.08365709,  34186.40967876,\n",
       "       140776.33531102, 128437.38204916, 125160.60214647, 128452.03476435,\n",
       "        56087.93448497, 123625.12013262, 130922.49524429, 116152.64406202,\n",
       "       119625.84598612, 143038.44251865,  41785.58876957, 140271.31615556,\n",
       "       126434.42974907,  57778.66279028, 113092.66500216, 113519.77168487,\n",
       "       108257.33667453,  49044.81391958,  64717.10220507, 122416.35117538,\n",
       "        53932.61550345, 129989.51663244,  53784.04316633,  51261.40961257,\n",
       "       132113.74510172, 107878.69770193, 147000.79511648,  99748.86171785,\n",
       "       137827.0774507 ,  79932.97012164,  60175.41683562, 124906.47391646,\n",
       "       110096.2164511 , 121824.83950602,  99599.89412526,  54868.77808638,\n",
       "       124723.54212841,  33194.20024921, 110172.25872998, 133191.19381178,\n",
       "       109377.86895821,  63018.53640613, 108159.84575407, 127105.33806578,\n",
       "       122772.41163554,  69129.19095114, 115276.94290398, 121994.98762397,\n",
       "       125843.95000344, 117489.59131397, 122350.66962706, 115799.73188106,\n",
       "       115149.38222615, 122350.01449321, 105013.90009817,  35240.36748366,\n",
       "        61394.13599167, 150180.22111576, 116054.55012285,  41289.87776952,\n",
       "       127770.17875581, 125467.76814237,  36644.83773594, 116020.06575181,\n",
       "        95151.23947088, 119605.45620994,  52069.51213656,  58487.52122661,\n",
       "       120157.31829398, 128498.05808746,  52169.95431728, 133048.05568938,\n",
       "       120164.25623466, 122553.55847198,  42466.10776912, 132182.86328241,\n",
       "       127232.75206479, 115115.83447914,  55311.68894107, 132994.64708713,\n",
       "       132466.68990147,  43431.67757016,  37255.16120496, 127776.89903373,\n",
       "        41336.9659742 , 120093.41568862, 109709.06723073,  61487.08449319,\n",
       "       105556.13558212,  62332.48525658, 110861.2584899 ,  96979.17448665,\n",
       "       133123.43651186,  57593.71448621, 121719.82580037, 120484.59419886,\n",
       "        98268.45932534,  60932.07289562, 164246.38845539, 123897.83416098,\n",
       "        49255.63740943, 113982.2480504 ,  39858.08708724,  34516.4586127 ,\n",
       "       122875.6661842 ,  33393.63250752,  29626.94527422, 128048.58234723,\n",
       "        62500.98841789,  65993.6133248 , 126038.9937447 ,  47123.78577367,\n",
       "        34588.63810291, 141375.76326826, 118919.60147896, 124996.72566073,\n",
       "       118435.02805054,  61874.24266675, 121865.19664588, 107852.58238916,\n",
       "       129476.81159287, 143419.69500666, 128025.84585835,  37008.06902992,\n",
       "       119801.47462507,  32212.39314714, 124251.40353925,  49383.12310024,\n",
       "       123869.00572874, 103844.5703389 , 131964.77851442, 103434.06055215,\n",
       "        41881.21145513,  57648.87852806, 144804.79296569, 109531.48086759,\n",
       "       129845.2016247 ,  42611.61769821, 105893.35488644, 118241.88269514,\n",
       "       123748.85373561,  60422.93997997, 107149.41002345, 108584.139437  ,\n",
       "        54512.28375049, 150851.4458446 , 117283.84874115, 147307.33488837,\n",
       "       140562.47352391, 126532.21943377, 103649.59810294, 123682.00146714,\n",
       "        36576.05011488, 113630.32611712, 127091.48812906, 122324.33543595,\n",
       "       117340.5504086 , 109811.49049869, 122360.14213226, 130771.2988885 ,\n",
       "        34000.82669384,  59006.74369918,  56959.3853778 , 135016.62968309,\n",
       "       140080.68770748,  99894.252839  , 137634.42957349, 143230.72252224,\n",
       "        37304.72525472, 139232.83674132, 109330.19456515, 121799.43722852,\n",
       "       125974.65515398, 122379.27961276, 125908.61976741, 105333.83835744,\n",
       "       118605.55870021, 119561.04196265,  43839.55214953, 121862.97149764,\n",
       "       107543.89923272,  45705.49925368,  95769.42299157,  99023.34196032,\n",
       "       103592.96957805, 130006.0561593 , 131310.70155174, 131184.8661414 ,\n",
       "        99061.73308924,  45499.03763005,  51176.48821616, 124350.11809421,\n",
       "       120258.42526161, 116608.35594515,  37146.39612986, 116485.90051635,\n",
       "       107021.52073243, 119322.85194172, 112009.26726035,  56589.6607628 ,\n",
       "        33031.85946685, 125601.06866651, 119067.25341111,  47011.26751827,\n",
       "        57323.73841124, 134497.98321298,  44547.12090668,  29940.56756901,\n",
       "       147195.74877358, 112434.63754265, 120366.32303329,  50168.97659119,\n",
       "        52116.73969261, 116279.78041907,  38454.17586485, 103660.55534844,\n",
       "       128536.367609  ,  43620.73587772, 152952.69583418,  39964.75775148,\n",
       "       117942.91237168, 121147.6449303 , 132378.40094687, 108001.58838061,\n",
       "       117876.48174968, 140987.13303983,  75578.61552397, 124819.74228301,\n",
       "       123274.1558673 ,  49971.49683545, 118931.64372036, 124387.99822079,\n",
       "       107235.04499498, 123086.38160941, 119144.90408032, 116368.35950598,\n",
       "        58421.64587259, 107738.00698836,  30431.01356004, 102511.86139538,\n",
       "       121348.14553783, 102691.70407136, 125989.45279749,  74743.08907767,\n",
       "       134063.95169002, 126986.62836376, 108815.76887211, 130796.39437502,\n",
       "       126610.82633108,  54181.44461917, 122790.79869825, 126805.36244118,\n",
       "        51419.11464187, 135942.37331983,  57851.70987549, 138226.19706687,\n",
       "        48898.98025758,  64520.06190584,  53299.4102966 , 128472.8461875 ,\n",
       "       122820.23980646, 114728.03615357,  31117.2021657 , 119264.27517302,\n",
       "       119753.61110054,  34422.89311891,  31331.49102911, 114675.53258254,\n",
       "       145186.22551949,  41817.95579951,  62826.87061994,  56317.60081462,\n",
       "       112318.76268206, 117666.04853173, 124204.31456426, 105981.31489632,\n",
       "       115099.13993772, 130222.69990303, 123048.66546892,  58407.03065895,\n",
       "       122058.75191147,  40547.50744097, 164102.75022974, 123928.90162933,\n",
       "       136526.88182232, 119549.83652712,  34211.8428199 , 124252.15938008,\n",
       "       125003.62039911, 123740.60859363, 127452.79661917,  48568.25553622,\n",
       "        52634.11394152, 131057.83516318, 142506.14781641, 101347.44191766,\n",
       "        98567.33410816,  98997.05233685,  41288.23558096,  56161.84170458,\n",
       "       110359.84105328,  48707.12926155, 106172.28238197,  61737.44938919,\n",
       "       122010.73447556, 123609.99521674, 131257.94825944,  33704.41072901,\n",
       "        33056.12782242,  56047.50077486, 134069.90910991,  57213.49774611,\n",
       "        37655.78287307, 117252.85686252, 133872.17657652,  31714.48401693,\n",
       "        50600.23316425, 122168.72914048, 156837.02217191,  40362.62496123,\n",
       "       122163.38638054, 119483.84944808, 119610.60650759,  65285.0163595 ,\n",
       "       109040.14588474,  45943.21107571,  50920.76290153,  98138.22801529,\n",
       "       122768.58453799, 111712.4577766 ,  66229.62062499, 116897.43123636,\n",
       "       126185.34952209, 132251.08012094,  56656.08630352, 127127.28108487,\n",
       "        99192.19520722, 128292.71685493, 112947.38246225,  52111.00226789,\n",
       "       136908.79050908, 122149.24254966,  42568.32867209, 155012.32862414,\n",
       "        47599.99181525,  35616.60724112, 120286.72007076, 117886.53164321,\n",
       "       120414.58729133,  41192.28696552, 116957.26435429, 127081.96992909,\n",
       "       137709.28306845,  55160.58835197, 123497.38365135, 122738.84847384,\n",
       "        60436.61022997,  58372.16513722, 133764.72266599, 123474.29805519,\n",
       "       128662.48074594, 111861.4041861 ,  99380.47782557,  47049.49489779,\n",
       "        63517.72353801, 129360.43606497, 107549.38555663, 124931.73733039,\n",
       "       120895.74961512, 128232.08591768, 116564.47047675,  73476.15892071,\n",
       "       140691.29146251, 120048.91531471,  43249.76206912,  44467.8497128 ,\n",
       "        57320.08005495,  49597.42082586, 131084.02419985,  96021.72898601,\n",
       "       107836.62657454, 110009.86757937,  49802.64661114, 135734.21486552,\n",
       "       121162.31286607,  44595.06305312, 125683.47465498,  44472.14582682,\n",
       "       129657.7577718 , 119186.57648357,  55871.45360767, 127064.19658597,\n",
       "       132695.95164552, 129364.25053609, 114140.82073365,  74164.90029013,\n",
       "        55307.21675389, 132397.33377344,  57822.34377035,  47586.70036157,\n",
       "       130628.61737371,  31859.51553906,  99210.02144765, 114384.84792819,\n",
       "       126529.33850909, 126749.73708409, 110557.20526142, 128127.82021908,\n",
       "        30194.23528502, 108308.92175731,  57221.45963704, 114363.47905042,\n",
       "       113293.30350084,  54605.69741979, 110016.07202651,  82675.99748042,\n",
       "       120117.39927916, 153554.87277832, 103470.93824431, 108059.97182942,\n",
       "       107471.81365632, 121026.13526531, 137431.01241738, 134357.01096621,\n",
       "       100010.39578798, 130089.27562242, 115845.41577097, 125523.14358093,\n",
       "       106039.54238124, 131972.25997208,  62005.58786481, 111109.13335923,\n",
       "        38287.07691558,  98573.47955015, 104656.54712243,  31276.60084506,\n",
       "        61803.14482435, 117114.76991736, 139537.20346805, 124055.3116198 ,\n",
       "        55230.93961234,  60962.26918634, 131857.41541033, 115954.01607308,\n",
       "       114882.74872237, 131488.65808506,  64414.91238208, 122426.02672774,\n",
       "        56577.72240486, 121530.81521132,  49088.27946718, 118076.46516402,\n",
       "       113909.96211012,  99024.95031562, 115972.00217955,  53608.53239611,\n",
       "       123407.0287337 , 109729.25513401,  47058.44715099, 128034.70457528,\n",
       "       130566.51491056, 116253.50673034, 123419.39732516,  29385.28642362,\n",
       "       132386.469395  , 135493.35861179, 112180.60072675, 103580.96514816,\n",
       "        49382.73369957, 107136.56941632, 122175.90690459,  55870.1160236 ,\n",
       "       124836.59856219, 122121.5668902 , 113609.22850799, 146565.66509285,\n",
       "       106040.42366769, 106983.17699618, 122759.51984289, 106398.26563036,\n",
       "       124988.74071734, 154478.15783456,  51055.0067749 , 107954.94797712,\n",
       "       117168.057138  , 135342.16077324, 134643.77364379, 130062.9911977 ,\n",
       "        56501.93944741, 143097.74656467, 119561.03713705, 114488.91440505,\n",
       "       118118.26108775, 123918.1349445 ,  52987.85660156,  56421.63266423,\n",
       "       118790.48764398, 119020.81628096,  58254.89914505, 125383.54955557,\n",
       "       117124.9023326 ,  58159.44282886,  64630.91172441, 118325.51057497,\n",
       "        49033.04539619, 124808.34144929,  54594.77096943, 116787.60614756,\n",
       "       110231.71774349, 103009.08509036, 113146.89260146,  52354.40473659,\n",
       "       136950.72292461, 108753.46112293,  47917.18630668, 113994.73917519,\n",
       "       129840.35507227,  58415.5388894 ,  28846.23980548, 144641.82627877,\n",
       "        64498.12119719, 109047.80923954, 133020.28214408, 109896.85026204,\n",
       "       123460.94802955, 117058.18317783, 170906.02506319, 132286.8084466 ,\n",
       "        64015.00689681,  53129.07557469,  61695.69753049, 107475.84156596,\n",
       "        33634.58922645, 111060.70750398, 104848.85522848, 102235.26714176,\n",
       "        95972.69352459,  48039.4933839 , 130161.85811698, 123419.95814898,\n",
       "       134777.8057903 ,  99207.59450853, 129248.28795175,  76815.60846288,\n",
       "       114890.1518251 , 115074.47990077, 126634.9743386 , 125523.04263295,\n",
       "       115658.06137215, 107526.03088311,  57495.8716921 ,  68853.674084  ,\n",
       "       129240.78611788, 128973.01589291, 127848.97423056, 126714.42704063,\n",
       "       176164.24953043,  39985.20141173,  60593.33078244, 120677.3175304 ,\n",
       "       121004.61476879, 115436.02398702, 101122.30232159, 127181.27791715,\n",
       "       120329.58179275,  48214.45789093,  93626.08180203,  39883.07006738,\n",
       "        56654.69400464,  48951.95423451, 118662.85654521,  95529.35614164,\n",
       "       125074.8557528 ,  52471.13095488,  60531.8997304 ,  62312.1962183 ,\n",
       "       125333.16733224, 113496.40143399,  94266.8394951 , 183344.54425855,\n",
       "       102830.13928518, 104857.58884385, 124319.04021239, 135909.61238433,\n",
       "       185710.42012904,  42771.41657076, 124528.0364267 ,  69529.96748782,\n",
       "       114378.8088517 , 124844.0070842 , 134568.19871603,  24765.37602982,\n",
       "        41816.98179597, 121466.61219762,  65130.53581515,  57153.83268965,\n",
       "       126563.34522187, 128816.6824607 , 136327.13597148, 112994.5582694 ,\n",
       "       134491.53095566, 107964.77680165,  45777.1593331 ,  54929.03920215,\n",
       "       115373.86391889,  61164.1900903 , 105614.9553761 ,  41558.18726894,\n",
       "       128094.415368  , 137793.4531206 , 125733.6938424 ,  37631.25342775,\n",
       "       104654.0359236 , 127207.40566846, 122133.98882165, 115240.11512933,\n",
       "       128618.75288291, 118419.3882012 , 117300.08901699, 120386.4341755 ,\n",
       "        34739.50921115,  42811.18291628, 115978.53579158,  35200.02200763,\n",
       "        60814.93814587, 123811.23413487,  93199.21603507, 105379.44749498,\n",
       "       123515.34136116,  34838.28177792, 133422.97048007,  30853.86976279,\n",
       "       123101.09627213,  40929.88848151, 142656.9050407 ,  50905.26438425,\n",
       "       120437.8416222 , 136218.42132871,  36227.70514178, 133279.13161852,\n",
       "       105941.98660654, 113156.71972974,  71712.45835315, 109269.5671665 ,\n",
       "        52770.52205023, 119950.68444748, 124353.53441195, 129882.42650938,\n",
       "       128791.90270785, 131555.94815078, 117453.73693819, 119119.09261347,\n",
       "        41401.52970568,  57475.33495604, 116496.9283208 , 119170.59896305,\n",
       "       135752.02389637, 117976.93213385, 100073.28095   ,  98395.42702978,\n",
       "       127914.27328511,  38504.89603807,  54987.79168187, 122486.39622896,\n",
       "        56947.70448622, 148218.22379472])"
      ]
     },
     "execution_count": 60,
     "metadata": {},
     "output_type": "execute_result"
    }
   ],
   "source": [
    "y_pred"
   ]
  },
  {
   "cell_type": "code",
   "execution_count": 61,
   "id": "b9268fd5",
   "metadata": {
    "ExecuteTime": {
     "end_time": "2023-01-21T20:10:13.332629Z",
     "start_time": "2023-01-21T20:10:13.308646Z"
    }
   },
   "outputs": [
    {
     "data": {
      "text/plain": [
       "(894,)"
      ]
     },
     "execution_count": 61,
     "metadata": {},
     "output_type": "execute_result"
    }
   ],
   "source": [
    "y_pred.shape"
   ]
  },
  {
   "cell_type": "code",
   "execution_count": 62,
   "id": "b8f18f04",
   "metadata": {
    "ExecuteTime": {
     "end_time": "2023-01-21T20:14:54.550960Z",
     "start_time": "2023-01-21T20:14:54.536969Z"
    }
   },
   "outputs": [
    {
     "data": {
      "text/plain": [
       "array([-1.01023822e-02,  2.06337640e+03,  7.79518404e+03, -1.63788986e+03,\n",
       "       -1.91940635e+03, -6.73436538e+03,  4.26469562e+01,  2.87128102e+00,\n",
       "        6.47690294e+04,  8.29223842e+02, -1.71307487e+03])"
      ]
     },
     "execution_count": 62,
     "metadata": {},
     "output_type": "execute_result"
    }
   ],
   "source": [
    "regr.coef_"
   ]
  },
  {
   "cell_type": "code",
   "execution_count": 63,
   "id": "bc4add45",
   "metadata": {
    "ExecuteTime": {
     "end_time": "2023-01-21T20:16:24.998382Z",
     "start_time": "2023-01-21T20:16:24.982408Z"
    }
   },
   "outputs": [],
   "source": [
    "from sklearn.metrics import mean_squared_error, r2_score"
   ]
  },
  {
   "cell_type": "code",
   "execution_count": 70,
   "id": "092b70e8",
   "metadata": {
    "ExecuteTime": {
     "end_time": "2023-01-21T20:20:58.046952Z",
     "start_time": "2023-01-21T20:20:58.026967Z"
    }
   },
   "outputs": [
    {
     "data": {
      "text/plain": [
       "0.1504945057513043"
      ]
     },
     "execution_count": 70,
     "metadata": {},
     "output_type": "execute_result"
    }
   ],
   "source": [
    "r2_score(y_test,y_pred)"
   ]
  },
  {
   "cell_type": "code",
   "execution_count": null,
   "id": "033ea3d9",
   "metadata": {},
   "outputs": [],
   "source": []
  }
 ],
 "metadata": {
  "kernelspec": {
   "display_name": "Python 3 (ipykernel)",
   "language": "python",
   "name": "python3"
  },
  "language_info": {
   "codemirror_mode": {
    "name": "ipython",
    "version": 3
   },
   "file_extension": ".py",
   "mimetype": "text/x-python",
   "name": "python",
   "nbconvert_exporter": "python",
   "pygments_lexer": "ipython3",
   "version": "3.9.7"
  }
 },
 "nbformat": 4,
 "nbformat_minor": 5
}
